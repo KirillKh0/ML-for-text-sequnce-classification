{
 "cells": [
  {
   "cell_type": "markdown",
   "metadata": {
    "toc": true
   },
   "source": [
    "<h1>Содержание<span class=\"tocSkip\"></span></h1>\n",
    "<div class=\"toc\"><ul class=\"toc-item\"><li><ul class=\"toc-item\"><li><span><a href=\"#Общее-впечатление\" data-toc-modified-id=\"Общее-впечатление-0.1\"><span class=\"toc-item-num\">0.1&nbsp;&nbsp;</span><font color=\"orange\">Общее впечатление</font></a></span></li><li><span><a href=\"#Общее-впечатление-(ревью-2)\" data-toc-modified-id=\"Общее-впечатление-(ревью-2)-0.2\"><span class=\"toc-item-num\">0.2&nbsp;&nbsp;</span><font color=\"orange\">Общее впечатление (ревью 2)</font></a></span></li></ul></li><li><span><a href=\"#Подготовка\" data-toc-modified-id=\"Подготовка-1\"><span class=\"toc-item-num\">1&nbsp;&nbsp;</span>Подготовка</a></span></li><li><span><a href=\"#Insalling-and-checking-data\" data-toc-modified-id=\"Insalling-and-checking-data-2\"><span class=\"toc-item-num\">2&nbsp;&nbsp;</span>Insalling and checking data</a></span></li><li><span><a href=\"#Embedding\" data-toc-modified-id=\"Embedding-3\"><span class=\"toc-item-num\">3&nbsp;&nbsp;</span>Embedding</a></span></li><li><span><a href=\"#Imbalance-classes\" data-toc-modified-id=\"Imbalance-classes-4\"><span class=\"toc-item-num\">4&nbsp;&nbsp;</span>Imbalance classes</a></span></li><li><span><a href=\"#Обучение\" data-toc-modified-id=\"Обучение-5\"><span class=\"toc-item-num\">5&nbsp;&nbsp;</span>Обучение</a></span><ul class=\"toc-item\"><li><span><a href=\"#LogisticRegression\" data-toc-modified-id=\"LogisticRegression-5.1\"><span class=\"toc-item-num\">5.1&nbsp;&nbsp;</span>LogisticRegression</a></span></li><li><span><a href=\"#Catboost\" data-toc-modified-id=\"Catboost-5.2\"><span class=\"toc-item-num\">5.2&nbsp;&nbsp;</span>Catboost</a></span></li></ul></li><li><span><a href=\"#Выводы\" data-toc-modified-id=\"Выводы-6\"><span class=\"toc-item-num\">6&nbsp;&nbsp;</span>Выводы</a></span></li><li><span><a href=\"#Чек-лист-проверки\" data-toc-modified-id=\"Чек-лист-проверки-7\"><span class=\"toc-item-num\">7&nbsp;&nbsp;</span>Чек-лист проверки</a></span></li></ul></div>"
   ]
  },
  {
   "cell_type": "markdown",
   "metadata": {},
   "source": [
    "# Проект для «Викишоп»"
   ]
  },
  {
   "cell_type": "markdown",
   "metadata": {},
   "source": [
    "Интернет-магазин «Викишоп» запускает новый сервис. Теперь пользователи могут редактировать и дополнять описания товаров, как в вики-сообществах. То есть клиенты предлагают свои правки и комментируют изменения других. Магазину нужен инструмент, который будет искать токсичные комментарии и отправлять их на модерацию. \n",
    "\n",
    "Обучите модель классифицировать комментарии на позитивные и негативные. В вашем распоряжении набор данных с разметкой о токсичности правок.\n",
    "\n",
    "Постройте модель со значением метрики качества *F1* не меньше 0.75. \n",
    "\n",
    "**Инструкция по выполнению проекта**\n",
    "\n",
    "1. Загрузите и подготовьте данные.\n",
    "2. Обучите разные модели. \n",
    "3. Сделайте выводы.\n",
    "\n",
    "Для выполнения проекта применять *BERT* необязательно, но вы можете попробовать.\n",
    "\n",
    "**Описание данных**\n",
    "\n",
    "Данные находятся в файле `toxic_comments.csv`. Столбец *text* в нём содержит текст комментария, а *toxic* — целевой признак."
   ]
  },
  {
   "cell_type": "markdown",
   "metadata": {},
   "source": [
    "## Подготовка"
   ]
  },
  {
   "cell_type": "code",
   "execution_count": 1,
   "metadata": {},
   "outputs": [],
   "source": [
    "import pandas as pd\n",
    "import numpy as np\n",
    "from tqdm import notebook\n",
    "from sklearn.linear_model import LogisticRegression\n",
    "from sklearn.metrics import classification_report\n",
    "from sklearn.model_selection import train_test_split\n",
    "from sklearn.metrics import f1_score\n",
    "from sklearn.feature_extraction.text import TfidfVectorizer, CountVectorizer\n",
    "from sklearn.utils import resample, shuffle\n",
    "from sklearn.model_selection import GridSearchCV, cross_val_score, RandomizedSearchCV\n",
    "from sklearn import feature_extraction, linear_model, model_selection, preprocessing\n",
    "from sklearn.metrics import accuracy_score\n",
    "import nltk\n",
    "from nltk.corpus import stopwords as nltk_stopwords\n",
    "from pymystem3 import Mystem\n",
    "import re\n",
    "import warnings\n",
    "from catboost import CatBoostClassifier"
   ]
  },
  {
   "cell_type": "code",
   "execution_count": 2,
   "metadata": {},
   "outputs": [
    {
     "name": "stderr",
     "output_type": "stream",
     "text": [
      "[nltk_data] Downloading package wordnet to /home/jovyan/nltk_data...\n",
      "[nltk_data]   Package wordnet is already up-to-date!\n"
     ]
    },
    {
     "data": {
      "text/plain": [
       "True"
      ]
     },
     "execution_count": 2,
     "metadata": {},
     "output_type": "execute_result"
    }
   ],
   "source": [
    "from nltk.stem import WordNetLemmatizer\n",
    "nltk.download('wordnet')"
   ]
  },
  {
   "cell_type": "markdown",
   "metadata": {},
   "source": [
    "## Insalling and checking data"
   ]
  },
  {
   "cell_type": "code",
   "execution_count": 3,
   "id": "5ab368bd",
   "metadata": {},
   "outputs": [],
   "source": [
    "try:\n",
    "    data = pd.read_csv('toxic_comments.csv')\n",
    "except:\n",
    "    data = pd.read_csv('/datasets/toxic_comments.csv')"
   ]
  },
  {
   "cell_type": "code",
   "execution_count": 4,
   "id": "6c2c6fa5",
   "metadata": {},
   "outputs": [
    {
     "data": {
      "text/html": [
       "<div>\n",
       "<style scoped>\n",
       "    .dataframe tbody tr th:only-of-type {\n",
       "        vertical-align: middle;\n",
       "    }\n",
       "\n",
       "    .dataframe tbody tr th {\n",
       "        vertical-align: top;\n",
       "    }\n",
       "\n",
       "    .dataframe thead th {\n",
       "        text-align: right;\n",
       "    }\n",
       "</style>\n",
       "<table border=\"1\" class=\"dataframe\">\n",
       "  <thead>\n",
       "    <tr style=\"text-align: right;\">\n",
       "      <th></th>\n",
       "      <th>Unnamed: 0</th>\n",
       "      <th>text</th>\n",
       "      <th>toxic</th>\n",
       "    </tr>\n",
       "  </thead>\n",
       "  <tbody>\n",
       "    <tr>\n",
       "      <th>0</th>\n",
       "      <td>0</td>\n",
       "      <td>Explanation\\nWhy the edits made under my usern...</td>\n",
       "      <td>0</td>\n",
       "    </tr>\n",
       "    <tr>\n",
       "      <th>1</th>\n",
       "      <td>1</td>\n",
       "      <td>D'aww! He matches this background colour I'm s...</td>\n",
       "      <td>0</td>\n",
       "    </tr>\n",
       "    <tr>\n",
       "      <th>2</th>\n",
       "      <td>2</td>\n",
       "      <td>Hey man, I'm really not trying to edit war. It...</td>\n",
       "      <td>0</td>\n",
       "    </tr>\n",
       "    <tr>\n",
       "      <th>3</th>\n",
       "      <td>3</td>\n",
       "      <td>\"\\nMore\\nI can't make any real suggestions on ...</td>\n",
       "      <td>0</td>\n",
       "    </tr>\n",
       "    <tr>\n",
       "      <th>4</th>\n",
       "      <td>4</td>\n",
       "      <td>You, sir, are my hero. Any chance you remember...</td>\n",
       "      <td>0</td>\n",
       "    </tr>\n",
       "  </tbody>\n",
       "</table>\n",
       "</div>"
      ],
      "text/plain": [
       "   Unnamed: 0                                               text  toxic\n",
       "0           0  Explanation\\nWhy the edits made under my usern...      0\n",
       "1           1  D'aww! He matches this background colour I'm s...      0\n",
       "2           2  Hey man, I'm really not trying to edit war. It...      0\n",
       "3           3  \"\\nMore\\nI can't make any real suggestions on ...      0\n",
       "4           4  You, sir, are my hero. Any chance you remember...      0"
      ]
     },
     "execution_count": 4,
     "metadata": {},
     "output_type": "execute_result"
    }
   ],
   "source": [
    "data.head()"
   ]
  },
  {
   "cell_type": "code",
   "execution_count": 5,
   "id": "c2609765",
   "metadata": {
    "scrolled": true
   },
   "outputs": [
    {
     "data": {
      "text/plain": [
       "<AxesSubplot:>"
      ]
     },
     "execution_count": 5,
     "metadata": {},
     "output_type": "execute_result"
    },
    {
     "data": {
      "image/png": "[encoded data removed]",
      "text/plain": [
       "<Figure size 432x288 with 1 Axes>"
      ]
     },
     "metadata": {
      "needs_background": "light"
     },
     "output_type": "display_data"
    }
   ],
   "source": [
    "data['toxic'].hist()"
   ]
  },
  {
   "cell_type": "code",
   "execution_count": 6,
   "metadata": {},
   "outputs": [
    {
     "data": {
      "text/plain": [
       "0.10161213369158527"
      ]
     },
     "execution_count": 6,
     "metadata": {},
     "output_type": "execute_result"
    }
   ],
   "source": [
    "data['toxic'].mean()"
   ]
  },
  {
   "cell_type": "markdown",
   "id": "04065477",
   "metadata": {},
   "source": [
    "В данных наблюдается несбалансированность классов"
   ]
  },
  {
   "cell_type": "code",
   "execution_count": 9,
   "metadata": {},
   "outputs": [],
   "source": [
    "def lemmatize_text(text):\n",
    "    lemmatizer = WordNetLemmatizer()\n",
    "    word_list = nltk.word_tokenize(text)\n",
    "    lemmatized_output = ' '.join([lemmatizer.lemmatize(w) for w in word_list])\n",
    "    return lemmatized_output"
   ]
  },
  {
   "cell_type": "code",
   "execution_count": 10,
   "metadata": {},
   "outputs": [],
   "source": [
    "data['lemm'] = data['text'].apply(lemmatize_text) #лемматизация\n",
    "data = data.drop(columns='text')"
   ]
  },
  {
   "cell_type": "code",
   "execution_count": 11,
   "metadata": {},
   "outputs": [
    {
     "name": "stdout",
     "output_type": "stream",
     "text": [
      "<class 'pandas.core.frame.DataFrame'>\n",
      "RangeIndex: 159292 entries, 0 to 159291\n",
      "Data columns (total 3 columns):\n",
      " #   Column      Non-Null Count   Dtype \n",
      "---  ------      --------------   ----- \n",
      " 0   Unnamed: 0  159292 non-null  int64 \n",
      " 1   toxic       159292 non-null  int64 \n",
      " 2   lemm        159292 non-null  object\n",
      "dtypes: int64(2), object(1)\n",
      "memory usage: 3.6+ MB\n"
     ]
    }
   ],
   "source": [
    "data.info()"
   ]
  },
  {
   "cell_type": "markdown",
   "metadata": {},
   "source": [
    "## Imbalance classes"
   ]
  },
  {
   "cell_type": "code",
   "execution_count": 12,
   "metadata": {},
   "outputs": [
    {
     "name": "stderr",
     "output_type": "stream",
     "text": [
      "[nltk_data] Downloading package stopwords to /home/jovyan/nltk_data...\n",
      "[nltk_data]   Package stopwords is already up-to-date!\n"
     ]
    },
    {
     "name": "stdout",
     "output_type": "stream",
     "text": [
      "(95575, 135558)\n",
      "(63717, 135558)\n"
     ]
    }
   ],
   "source": [
    "y = data['toxic']\n",
    "X = data.drop(['toxic'], axis=1)\n",
    "\n",
    "X_train, X_test, y_train, y_test = train_test_split(X, y, test_size=0.4, random_state=1)\n",
    "\n",
    "nltk.download('stopwords')\n",
    "stopwords = set(nltk_stopwords.words('english'))\n",
    "\n",
    "count_tf_idf = TfidfVectorizer(stop_words=stopwords)\n",
    "\n",
    "X_train = count_tf_idf.fit_transform(X_train['lemm'].values)\n",
    "X_test = count_tf_idf.transform(X_test['lemm'].values)\n",
    "print(X_train.shape)\n",
    "print(X_test.shape)\n",
    "cv_counts = 3"
   ]
  },
  {
   "cell_type": "code",
   "execution_count": 13,
   "metadata": {},
   "outputs": [],
   "source": [
    "data_train = data.iloc[y_train.index]\n",
    "\n",
    "y_train_class_zero = data_train[data_train['toxic'] == 0]['toxic']\n",
    "y_train_class_one = data_train[data_train['toxic'] == 1]['toxic']"
   ]
  },
  {
   "cell_type": "code",
   "execution_count": 14,
   "metadata": {},
   "outputs": [],
   "source": [
    "y_train_class_zero_downsample = y_train_class_zero.sample(y_train_class_one.shape[0], random_state=1)\n",
    "y_train_downsample = pd.concat([y_train_class_zero_downsample, y_train_class_one])\n",
    "\n",
    "X_train_downsample = data.iloc[y_train_downsample.index]\n",
    "X_train_downsample, y_train_downsample = shuffle(X_train_downsample, y_train_downsample, random_state=1)\n",
    "X_train_downsample = count_tf_idf.transform(X_train_downsample['lemm'].values)"
   ]
  },
  {
   "cell_type": "markdown",
   "metadata": {},
   "source": [
    "## Обучение"
   ]
  },
  {
   "cell_type": "markdown",
   "metadata": {},
   "source": [
    "В качестве рассматриваемых моделей будем рассматривать логистическую регрессию, наивный Байесовский классификатор и метод опорных векторов (SVM)"
   ]
  },
  {
   "cell_type": "markdown",
   "metadata": {},
   "source": [
    "### LogisticRegression"
   ]
  },
  {
   "cell_type": "code",
   "execution_count": 15,
   "metadata": {},
   "outputs": [
    {
     "name": "stderr",
     "output_type": "stream",
     "text": [
      "/opt/conda/lib/python3.9/site-packages/sklearn/linear_model/_sag.py:328: ConvergenceWarning: The max_iter was reached which means the coef_ did not converge\n",
      "  warnings.warn(\"The max_iter was reached which means \"\n",
      "/opt/conda/lib/python3.9/site-packages/sklearn/linear_model/_sag.py:328: ConvergenceWarning: The max_iter was reached which means the coef_ did not converge\n",
      "  warnings.warn(\"The max_iter was reached which means \"\n",
      "/opt/conda/lib/python3.9/site-packages/sklearn/linear_model/_sag.py:328: ConvergenceWarning: The max_iter was reached which means the coef_ did not converge\n",
      "  warnings.warn(\"The max_iter was reached which means \"\n",
      "/opt/conda/lib/python3.9/site-packages/sklearn/linear_model/_sag.py:328: ConvergenceWarning: The max_iter was reached which means the coef_ did not converge\n",
      "  warnings.warn(\"The max_iter was reached which means \"\n",
      "/opt/conda/lib/python3.9/site-packages/sklearn/linear_model/_sag.py:328: ConvergenceWarning: The max_iter was reached which means the coef_ did not converge\n",
      "  warnings.warn(\"The max_iter was reached which means \"\n",
      "/opt/conda/lib/python3.9/site-packages/sklearn/linear_model/_sag.py:328: ConvergenceWarning: The max_iter was reached which means the coef_ did not converge\n",
      "  warnings.warn(\"The max_iter was reached which means \"\n",
      "/opt/conda/lib/python3.9/site-packages/sklearn/linear_model/_sag.py:328: ConvergenceWarning: The max_iter was reached which means the coef_ did not converge\n",
      "  warnings.warn(\"The max_iter was reached which means \"\n",
      "/opt/conda/lib/python3.9/site-packages/sklearn/linear_model/_sag.py:328: ConvergenceWarning: The max_iter was reached which means the coef_ did not converge\n",
      "  warnings.warn(\"The max_iter was reached which means \"\n",
      "/opt/conda/lib/python3.9/site-packages/sklearn/linear_model/_sag.py:328: ConvergenceWarning: The max_iter was reached which means the coef_ did not converge\n",
      "  warnings.warn(\"The max_iter was reached which means \"\n"
     ]
    },
    {
     "name": "stdout",
     "output_type": "stream",
     "text": [
      "Best hyperparameters: {'C': 2.0, 'penalty': 'l1', 'solver': 'liblinear'}\n",
      "Best score: 0.7631395980311801\n"
     ]
    }
   ],
   "source": [
    "param_grid = {\n",
    "    \"C\": [0.1, 0.5, 1.0, 1.5, 2.0],\n",
    "    \"penalty\": [\"l1\", \"l2\"],\n",
    "    \"solver\": [\"liblinear\", \"saga\"]\n",
    "}\n",
    "\n",
    "model = LogisticRegression()\n",
    "grid_search = GridSearchCV(model, param_grid, cv=5, scoring='f1')\n",
    "grid_search.fit(X_train, y_train)\n",
    "\n",
    "print(\"Best hyperparameters:\", grid_search.best_params_)\n",
    "print(\"Best score:\", grid_search.best_score_)"
   ]
  },
  {
   "cell_type": "code",
   "execution_count": 16,
   "metadata": {},
   "outputs": [
    {
     "name": "stderr",
     "output_type": "stream",
     "text": [
      "/opt/conda/lib/python3.9/site-packages/sklearn/model_selection/_validation.py:610: FitFailedWarning: Estimator fit failed. The score on this train-test partition for these parameters will be set to nan. Details: \n",
      "Traceback (most recent call last):\n",
      "  File \"/opt/conda/lib/python3.9/site-packages/sklearn/model_selection/_validation.py\", line 593, in _fit_and_score\n",
      "    estimator.fit(X_train, y_train, **fit_params)\n",
      "  File \"/opt/conda/lib/python3.9/site-packages/sklearn/linear_model/_logistic.py\", line 1358, in fit\n",
      "    self.coef_, self.intercept_, n_iter_ = _fit_liblinear(\n",
      "  File \"/opt/conda/lib/python3.9/site-packages/sklearn/svm/_base.py\", line 939, in _fit_liblinear\n",
      "    class_weight_ = compute_class_weight(class_weight, classes=classes_,\n",
      "  File \"/opt/conda/lib/python3.9/site-packages/sklearn/utils/validation.py\", line 63, in inner_f\n",
      "    return f(*args, **kwargs)\n",
      "  File \"/opt/conda/lib/python3.9/site-packages/sklearn/utils/class_weight.py\", line 63, in compute_class_weight\n",
      "    raise ValueError(\"class_weight must be dict, 'balanced', or None,\"\n",
      "ValueError: class_weight must be dict, 'balanced', or None, got: 'balnced'\n",
      "\n",
      "  warnings.warn(\"Estimator fit failed. The score on this train-test\"\n",
      "/opt/conda/lib/python3.9/site-packages/sklearn/model_selection/_validation.py:610: FitFailedWarning: Estimator fit failed. The score on this train-test partition for these parameters will be set to nan. Details: \n",
      "Traceback (most recent call last):\n",
      "  File \"/opt/conda/lib/python3.9/site-packages/sklearn/model_selection/_validation.py\", line 593, in _fit_and_score\n",
      "    estimator.fit(X_train, y_train, **fit_params)\n",
      "  File \"/opt/conda/lib/python3.9/site-packages/sklearn/linear_model/_logistic.py\", line 1358, in fit\n",
      "    self.coef_, self.intercept_, n_iter_ = _fit_liblinear(\n",
      "  File \"/opt/conda/lib/python3.9/site-packages/sklearn/svm/_base.py\", line 939, in _fit_liblinear\n",
      "    class_weight_ = compute_class_weight(class_weight, classes=classes_,\n",
      "  File \"/opt/conda/lib/python3.9/site-packages/sklearn/utils/validation.py\", line 63, in inner_f\n",
      "    return f(*args, **kwargs)\n",
      "  File \"/opt/conda/lib/python3.9/site-packages/sklearn/utils/class_weight.py\", line 63, in compute_class_weight\n",
      "    raise ValueError(\"class_weight must be dict, 'balanced', or None,\"\n",
      "ValueError: class_weight must be dict, 'balanced', or None, got: 'balnced'\n",
      "\n",
      "  warnings.warn(\"Estimator fit failed. The score on this train-test\"\n",
      "/opt/conda/lib/python3.9/site-packages/sklearn/model_selection/_validation.py:610: FitFailedWarning: Estimator fit failed. The score on this train-test partition for these parameters will be set to nan. Details: \n",
      "Traceback (most recent call last):\n",
      "  File \"/opt/conda/lib/python3.9/site-packages/sklearn/model_selection/_validation.py\", line 593, in _fit_and_score\n",
      "    estimator.fit(X_train, y_train, **fit_params)\n",
      "  File \"/opt/conda/lib/python3.9/site-packages/sklearn/linear_model/_logistic.py\", line 1358, in fit\n",
      "    self.coef_, self.intercept_, n_iter_ = _fit_liblinear(\n",
      "  File \"/opt/conda/lib/python3.9/site-packages/sklearn/svm/_base.py\", line 939, in _fit_liblinear\n",
      "    class_weight_ = compute_class_weight(class_weight, classes=classes_,\n",
      "  File \"/opt/conda/lib/python3.9/site-packages/sklearn/utils/validation.py\", line 63, in inner_f\n",
      "    return f(*args, **kwargs)\n",
      "  File \"/opt/conda/lib/python3.9/site-packages/sklearn/utils/class_weight.py\", line 63, in compute_class_weight\n",
      "    raise ValueError(\"class_weight must be dict, 'balanced', or None,\"\n",
      "ValueError: class_weight must be dict, 'balanced', or None, got: 'balnced'\n",
      "\n",
      "  warnings.warn(\"Estimator fit failed. The score on this train-test\"\n",
      "/opt/conda/lib/python3.9/site-packages/sklearn/model_selection/_validation.py:610: FitFailedWarning: Estimator fit failed. The score on this train-test partition for these parameters will be set to nan. Details: \n",
      "Traceback (most recent call last):\n",
      "  File \"/opt/conda/lib/python3.9/site-packages/sklearn/model_selection/_validation.py\", line 593, in _fit_and_score\n",
      "    estimator.fit(X_train, y_train, **fit_params)\n",
      "  File \"/opt/conda/lib/python3.9/site-packages/sklearn/linear_model/_logistic.py\", line 1358, in fit\n",
      "    self.coef_, self.intercept_, n_iter_ = _fit_liblinear(\n",
      "  File \"/opt/conda/lib/python3.9/site-packages/sklearn/svm/_base.py\", line 939, in _fit_liblinear\n",
      "    class_weight_ = compute_class_weight(class_weight, classes=classes_,\n",
      "  File \"/opt/conda/lib/python3.9/site-packages/sklearn/utils/validation.py\", line 63, in inner_f\n",
      "    return f(*args, **kwargs)\n",
      "  File \"/opt/conda/lib/python3.9/site-packages/sklearn/utils/class_weight.py\", line 63, in compute_class_weight\n",
      "    raise ValueError(\"class_weight must be dict, 'balanced', or None,\"\n",
      "ValueError: class_weight must be dict, 'balanced', or None, got: 'balnced'\n",
      "\n",
      "  warnings.warn(\"Estimator fit failed. The score on this train-test\"\n",
      "/opt/conda/lib/python3.9/site-packages/sklearn/model_selection/_validation.py:610: FitFailedWarning: Estimator fit failed. The score on this train-test partition for these parameters will be set to nan. Details: \n",
      "Traceback (most recent call last):\n",
      "  File \"/opt/conda/lib/python3.9/site-packages/sklearn/model_selection/_validation.py\", line 593, in _fit_and_score\n",
      "    estimator.fit(X_train, y_train, **fit_params)\n",
      "  File \"/opt/conda/lib/python3.9/site-packages/sklearn/linear_model/_logistic.py\", line 1358, in fit\n",
      "    self.coef_, self.intercept_, n_iter_ = _fit_liblinear(\n",
      "  File \"/opt/conda/lib/python3.9/site-packages/sklearn/svm/_base.py\", line 939, in _fit_liblinear\n",
      "    class_weight_ = compute_class_weight(class_weight, classes=classes_,\n",
      "  File \"/opt/conda/lib/python3.9/site-packages/sklearn/utils/validation.py\", line 63, in inner_f\n",
      "    return f(*args, **kwargs)\n",
      "  File \"/opt/conda/lib/python3.9/site-packages/sklearn/utils/class_weight.py\", line 63, in compute_class_weight\n",
      "    raise ValueError(\"class_weight must be dict, 'balanced', or None,\"\n",
      "ValueError: class_weight must be dict, 'balanced', or None, got: 'balnced'\n",
      "\n",
      "  warnings.warn(\"Estimator fit failed. The score on this train-test\"\n",
      "/opt/conda/lib/python3.9/site-packages/sklearn/model_selection/_validation.py:610: FitFailedWarning: Estimator fit failed. The score on this train-test partition for these parameters will be set to nan. Details: \n",
      "Traceback (most recent call last):\n",
      "  File \"/opt/conda/lib/python3.9/site-packages/sklearn/model_selection/_validation.py\", line 593, in _fit_and_score\n",
      "    estimator.fit(X_train, y_train, **fit_params)\n",
      "  File \"/opt/conda/lib/python3.9/site-packages/sklearn/linear_model/_logistic.py\", line 1358, in fit\n",
      "    self.coef_, self.intercept_, n_iter_ = _fit_liblinear(\n",
      "  File \"/opt/conda/lib/python3.9/site-packages/sklearn/svm/_base.py\", line 939, in _fit_liblinear\n",
      "    class_weight_ = compute_class_weight(class_weight, classes=classes_,\n",
      "  File \"/opt/conda/lib/python3.9/site-packages/sklearn/utils/validation.py\", line 63, in inner_f\n",
      "    return f(*args, **kwargs)\n",
      "  File \"/opt/conda/lib/python3.9/site-packages/sklearn/utils/class_weight.py\", line 63, in compute_class_weight\n",
      "    raise ValueError(\"class_weight must be dict, 'balanced', or None,\"\n",
      "ValueError: class_weight must be dict, 'balanced', or None, got: 'balnced'\n",
      "\n",
      "  warnings.warn(\"Estimator fit failed. The score on this train-test\"\n",
      "/opt/conda/lib/python3.9/site-packages/sklearn/model_selection/_validation.py:610: FitFailedWarning: Estimator fit failed. The score on this train-test partition for these parameters will be set to nan. Details: \n",
      "Traceback (most recent call last):\n",
      "  File \"/opt/conda/lib/python3.9/site-packages/sklearn/model_selection/_validation.py\", line 593, in _fit_and_score\n",
      "    estimator.fit(X_train, y_train, **fit_params)\n",
      "  File \"/opt/conda/lib/python3.9/site-packages/sklearn/linear_model/_logistic.py\", line 1358, in fit\n",
      "    self.coef_, self.intercept_, n_iter_ = _fit_liblinear(\n",
      "  File \"/opt/conda/lib/python3.9/site-packages/sklearn/svm/_base.py\", line 939, in _fit_liblinear\n",
      "    class_weight_ = compute_class_weight(class_weight, classes=classes_,\n",
      "  File \"/opt/conda/lib/python3.9/site-packages/sklearn/utils/validation.py\", line 63, in inner_f\n",
      "    return f(*args, **kwargs)\n",
      "  File \"/opt/conda/lib/python3.9/site-packages/sklearn/utils/class_weight.py\", line 63, in compute_class_weight\n",
      "    raise ValueError(\"class_weight must be dict, 'balanced', or None,\"\n",
      "ValueError: class_weight must be dict, 'balanced', or None, got: 'balnced'\n",
      "\n",
      "  warnings.warn(\"Estimator fit failed. The score on this train-test\"\n",
      "/opt/conda/lib/python3.9/site-packages/sklearn/model_selection/_validation.py:610: FitFailedWarning: Estimator fit failed. The score on this train-test partition for these parameters will be set to nan. Details: \n",
      "Traceback (most recent call last):\n",
      "  File \"/opt/conda/lib/python3.9/site-packages/sklearn/model_selection/_validation.py\", line 593, in _fit_and_score\n",
      "    estimator.fit(X_train, y_train, **fit_params)\n",
      "  File \"/opt/conda/lib/python3.9/site-packages/sklearn/linear_model/_logistic.py\", line 1358, in fit\n",
      "    self.coef_, self.intercept_, n_iter_ = _fit_liblinear(\n",
      "  File \"/opt/conda/lib/python3.9/site-packages/sklearn/svm/_base.py\", line 939, in _fit_liblinear\n",
      "    class_weight_ = compute_class_weight(class_weight, classes=classes_,\n",
      "  File \"/opt/conda/lib/python3.9/site-packages/sklearn/utils/validation.py\", line 63, in inner_f\n",
      "    return f(*args, **kwargs)\n",
      "  File \"/opt/conda/lib/python3.9/site-packages/sklearn/utils/class_weight.py\", line 63, in compute_class_weight\n",
      "    raise ValueError(\"class_weight must be dict, 'balanced', or None,\"\n",
      "ValueError: class_weight must be dict, 'balanced', or None, got: 'balnced'\n",
      "\n",
      "  warnings.warn(\"Estimator fit failed. The score on this train-test\"\n",
      "/opt/conda/lib/python3.9/site-packages/sklearn/model_selection/_validation.py:610: FitFailedWarning: Estimator fit failed. The score on this train-test partition for these parameters will be set to nan. Details: \n",
      "Traceback (most recent call last):\n",
      "  File \"/opt/conda/lib/python3.9/site-packages/sklearn/model_selection/_validation.py\", line 593, in _fit_and_score\n",
      "    estimator.fit(X_train, y_train, **fit_params)\n",
      "  File \"/opt/conda/lib/python3.9/site-packages/sklearn/linear_model/_logistic.py\", line 1358, in fit\n",
      "    self.coef_, self.intercept_, n_iter_ = _fit_liblinear(\n",
      "  File \"/opt/conda/lib/python3.9/site-packages/sklearn/svm/_base.py\", line 939, in _fit_liblinear\n",
      "    class_weight_ = compute_class_weight(class_weight, classes=classes_,\n",
      "  File \"/opt/conda/lib/python3.9/site-packages/sklearn/utils/validation.py\", line 63, in inner_f\n",
      "    return f(*args, **kwargs)\n",
      "  File \"/opt/conda/lib/python3.9/site-packages/sklearn/utils/class_weight.py\", line 63, in compute_class_weight\n",
      "    raise ValueError(\"class_weight must be dict, 'balanced', or None,\"\n",
      "ValueError: class_weight must be dict, 'balanced', or None, got: 'balnced'\n",
      "\n",
      "  warnings.warn(\"Estimator fit failed. The score on this train-test\"\n",
      "/opt/conda/lib/python3.9/site-packages/sklearn/model_selection/_validation.py:610: FitFailedWarning: Estimator fit failed. The score on this train-test partition for these parameters will be set to nan. Details: \n",
      "Traceback (most recent call last):\n",
      "  File \"/opt/conda/lib/python3.9/site-packages/sklearn/model_selection/_validation.py\", line 593, in _fit_and_score\n",
      "    estimator.fit(X_train, y_train, **fit_params)\n",
      "  File \"/opt/conda/lib/python3.9/site-packages/sklearn/linear_model/_logistic.py\", line 1358, in fit\n",
      "    self.coef_, self.intercept_, n_iter_ = _fit_liblinear(\n",
      "  File \"/opt/conda/lib/python3.9/site-packages/sklearn/svm/_base.py\", line 939, in _fit_liblinear\n",
      "    class_weight_ = compute_class_weight(class_weight, classes=classes_,\n",
      "  File \"/opt/conda/lib/python3.9/site-packages/sklearn/utils/validation.py\", line 63, in inner_f\n",
      "    return f(*args, **kwargs)\n",
      "  File \"/opt/conda/lib/python3.9/site-packages/sklearn/utils/class_weight.py\", line 63, in compute_class_weight\n",
      "    raise ValueError(\"class_weight must be dict, 'balanced', or None,\"\n",
      "ValueError: class_weight must be dict, 'balanced', or None, got: 'balnced'\n",
      "\n",
      "  warnings.warn(\"Estimator fit failed. The score on this train-test\"\n",
      "/opt/conda/lib/python3.9/site-packages/sklearn/model_selection/_validation.py:610: FitFailedWarning: Estimator fit failed. The score on this train-test partition for these parameters will be set to nan. Details: \n",
      "Traceback (most recent call last):\n",
      "  File \"/opt/conda/lib/python3.9/site-packages/sklearn/model_selection/_validation.py\", line 593, in _fit_and_score\n",
      "    estimator.fit(X_train, y_train, **fit_params)\n",
      "  File \"/opt/conda/lib/python3.9/site-packages/sklearn/linear_model/_logistic.py\", line 1358, in fit\n",
      "    self.coef_, self.intercept_, n_iter_ = _fit_liblinear(\n",
      "  File \"/opt/conda/lib/python3.9/site-packages/sklearn/svm/_base.py\", line 939, in _fit_liblinear\n",
      "    class_weight_ = compute_class_weight(class_weight, classes=classes_,\n",
      "  File \"/opt/conda/lib/python3.9/site-packages/sklearn/utils/validation.py\", line 63, in inner_f\n",
      "    return f(*args, **kwargs)\n",
      "  File \"/opt/conda/lib/python3.9/site-packages/sklearn/utils/class_weight.py\", line 63, in compute_class_weight\n",
      "    raise ValueError(\"class_weight must be dict, 'balanced', or None,\"\n",
      "ValueError: class_weight must be dict, 'balanced', or None, got: 'balnced'\n",
      "\n",
      "  warnings.warn(\"Estimator fit failed. The score on this train-test\"\n",
      "/opt/conda/lib/python3.9/site-packages/sklearn/model_selection/_validation.py:610: FitFailedWarning: Estimator fit failed. The score on this train-test partition for these parameters will be set to nan. Details: \n",
      "Traceback (most recent call last):\n",
      "  File \"/opt/conda/lib/python3.9/site-packages/sklearn/model_selection/_validation.py\", line 593, in _fit_and_score\n",
      "    estimator.fit(X_train, y_train, **fit_params)\n",
      "  File \"/opt/conda/lib/python3.9/site-packages/sklearn/linear_model/_logistic.py\", line 1358, in fit\n",
      "    self.coef_, self.intercept_, n_iter_ = _fit_liblinear(\n",
      "  File \"/opt/conda/lib/python3.9/site-packages/sklearn/svm/_base.py\", line 939, in _fit_liblinear\n",
      "    class_weight_ = compute_class_weight(class_weight, classes=classes_,\n",
      "  File \"/opt/conda/lib/python3.9/site-packages/sklearn/utils/validation.py\", line 63, in inner_f\n",
      "    return f(*args, **kwargs)\n",
      "  File \"/opt/conda/lib/python3.9/site-packages/sklearn/utils/class_weight.py\", line 63, in compute_class_weight\n",
      "    raise ValueError(\"class_weight must be dict, 'balanced', or None,\"\n",
      "ValueError: class_weight must be dict, 'balanced', or None, got: 'balnced'\n",
      "\n",
      "  warnings.warn(\"Estimator fit failed. The score on this train-test\"\n",
      "/opt/conda/lib/python3.9/site-packages/sklearn/model_selection/_validation.py:610: FitFailedWarning: Estimator fit failed. The score on this train-test partition for these parameters will be set to nan. Details: \n",
      "Traceback (most recent call last):\n",
      "  File \"/opt/conda/lib/python3.9/site-packages/sklearn/model_selection/_validation.py\", line 593, in _fit_and_score\n",
      "    estimator.fit(X_train, y_train, **fit_params)\n",
      "  File \"/opt/conda/lib/python3.9/site-packages/sklearn/linear_model/_logistic.py\", line 1358, in fit\n",
      "    self.coef_, self.intercept_, n_iter_ = _fit_liblinear(\n",
      "  File \"/opt/conda/lib/python3.9/site-packages/sklearn/svm/_base.py\", line 939, in _fit_liblinear\n",
      "    class_weight_ = compute_class_weight(class_weight, classes=classes_,\n",
      "  File \"/opt/conda/lib/python3.9/site-packages/sklearn/utils/validation.py\", line 63, in inner_f\n",
      "    return f(*args, **kwargs)\n",
      "  File \"/opt/conda/lib/python3.9/site-packages/sklearn/utils/class_weight.py\", line 63, in compute_class_weight\n",
      "    raise ValueError(\"class_weight must be dict, 'balanced', or None,\"\n",
      "ValueError: class_weight must be dict, 'balanced', or None, got: 'balnced'\n",
      "\n",
      "  warnings.warn(\"Estimator fit failed. The score on this train-test\"\n",
      "/opt/conda/lib/python3.9/site-packages/sklearn/model_selection/_validation.py:610: FitFailedWarning: Estimator fit failed. The score on this train-test partition for these parameters will be set to nan. Details: \n",
      "Traceback (most recent call last):\n",
      "  File \"/opt/conda/lib/python3.9/site-packages/sklearn/model_selection/_validation.py\", line 593, in _fit_and_score\n",
      "    estimator.fit(X_train, y_train, **fit_params)\n",
      "  File \"/opt/conda/lib/python3.9/site-packages/sklearn/linear_model/_logistic.py\", line 1358, in fit\n",
      "    self.coef_, self.intercept_, n_iter_ = _fit_liblinear(\n",
      "  File \"/opt/conda/lib/python3.9/site-packages/sklearn/svm/_base.py\", line 939, in _fit_liblinear\n",
      "    class_weight_ = compute_class_weight(class_weight, classes=classes_,\n",
      "  File \"/opt/conda/lib/python3.9/site-packages/sklearn/utils/validation.py\", line 63, in inner_f\n",
      "    return f(*args, **kwargs)\n",
      "  File \"/opt/conda/lib/python3.9/site-packages/sklearn/utils/class_weight.py\", line 63, in compute_class_weight\n",
      "    raise ValueError(\"class_weight must be dict, 'balanced', or None,\"\n",
      "ValueError: class_weight must be dict, 'balanced', or None, got: 'balnced'\n",
      "\n",
      "  warnings.warn(\"Estimator fit failed. The score on this train-test\"\n",
      "/opt/conda/lib/python3.9/site-packages/sklearn/model_selection/_validation.py:610: FitFailedWarning: Estimator fit failed. The score on this train-test partition for these parameters will be set to nan. Details: \n",
      "Traceback (most recent call last):\n",
      "  File \"/opt/conda/lib/python3.9/site-packages/sklearn/model_selection/_validation.py\", line 593, in _fit_and_score\n",
      "    estimator.fit(X_train, y_train, **fit_params)\n",
      "  File \"/opt/conda/lib/python3.9/site-packages/sklearn/linear_model/_logistic.py\", line 1358, in fit\n",
      "    self.coef_, self.intercept_, n_iter_ = _fit_liblinear(\n",
      "  File \"/opt/conda/lib/python3.9/site-packages/sklearn/svm/_base.py\", line 939, in _fit_liblinear\n",
      "    class_weight_ = compute_class_weight(class_weight, classes=classes_,\n",
      "  File \"/opt/conda/lib/python3.9/site-packages/sklearn/utils/validation.py\", line 63, in inner_f\n",
      "    return f(*args, **kwargs)\n",
      "  File \"/opt/conda/lib/python3.9/site-packages/sklearn/utils/class_weight.py\", line 63, in compute_class_weight\n",
      "    raise ValueError(\"class_weight must be dict, 'balanced', or None,\"\n",
      "ValueError: class_weight must be dict, 'balanced', or None, got: 'balnced'\n",
      "\n",
      "  warnings.warn(\"Estimator fit failed. The score on this train-test\"\n",
      "/opt/conda/lib/python3.9/site-packages/sklearn/model_selection/_validation.py:610: FitFailedWarning: Estimator fit failed. The score on this train-test partition for these parameters will be set to nan. Details: \n",
      "Traceback (most recent call last):\n",
      "  File \"/opt/conda/lib/python3.9/site-packages/sklearn/model_selection/_validation.py\", line 593, in _fit_and_score\n",
      "    estimator.fit(X_train, y_train, **fit_params)\n",
      "  File \"/opt/conda/lib/python3.9/site-packages/sklearn/linear_model/_logistic.py\", line 1358, in fit\n",
      "    self.coef_, self.intercept_, n_iter_ = _fit_liblinear(\n",
      "  File \"/opt/conda/lib/python3.9/site-packages/sklearn/svm/_base.py\", line 939, in _fit_liblinear\n",
      "    class_weight_ = compute_class_weight(class_weight, classes=classes_,\n",
      "  File \"/opt/conda/lib/python3.9/site-packages/sklearn/utils/validation.py\", line 63, in inner_f\n",
      "    return f(*args, **kwargs)\n",
      "  File \"/opt/conda/lib/python3.9/site-packages/sklearn/utils/class_weight.py\", line 63, in compute_class_weight\n",
      "    raise ValueError(\"class_weight must be dict, 'balanced', or None,\"\n",
      "ValueError: class_weight must be dict, 'balanced', or None, got: 'balnced'\n",
      "\n",
      "  warnings.warn(\"Estimator fit failed. The score on this train-test\"\n",
      "/opt/conda/lib/python3.9/site-packages/sklearn/model_selection/_validation.py:610: FitFailedWarning: Estimator fit failed. The score on this train-test partition for these parameters will be set to nan. Details: \n",
      "Traceback (most recent call last):\n",
      "  File \"/opt/conda/lib/python3.9/site-packages/sklearn/model_selection/_validation.py\", line 593, in _fit_and_score\n",
      "    estimator.fit(X_train, y_train, **fit_params)\n",
      "  File \"/opt/conda/lib/python3.9/site-packages/sklearn/linear_model/_logistic.py\", line 1358, in fit\n",
      "    self.coef_, self.intercept_, n_iter_ = _fit_liblinear(\n",
      "  File \"/opt/conda/lib/python3.9/site-packages/sklearn/svm/_base.py\", line 939, in _fit_liblinear\n",
      "    class_weight_ = compute_class_weight(class_weight, classes=classes_,\n",
      "  File \"/opt/conda/lib/python3.9/site-packages/sklearn/utils/validation.py\", line 63, in inner_f\n",
      "    return f(*args, **kwargs)\n",
      "  File \"/opt/conda/lib/python3.9/site-packages/sklearn/utils/class_weight.py\", line 63, in compute_class_weight\n",
      "    raise ValueError(\"class_weight must be dict, 'balanced', or None,\"\n",
      "ValueError: class_weight must be dict, 'balanced', or None, got: 'balnced'\n",
      "\n",
      "  warnings.warn(\"Estimator fit failed. The score on this train-test\"\n",
      "/opt/conda/lib/python3.9/site-packages/sklearn/model_selection/_validation.py:610: FitFailedWarning: Estimator fit failed. The score on this train-test partition for these parameters will be set to nan. Details: \n",
      "Traceback (most recent call last):\n",
      "  File \"/opt/conda/lib/python3.9/site-packages/sklearn/model_selection/_validation.py\", line 593, in _fit_and_score\n",
      "    estimator.fit(X_train, y_train, **fit_params)\n",
      "  File \"/opt/conda/lib/python3.9/site-packages/sklearn/linear_model/_logistic.py\", line 1358, in fit\n",
      "    self.coef_, self.intercept_, n_iter_ = _fit_liblinear(\n",
      "  File \"/opt/conda/lib/python3.9/site-packages/sklearn/svm/_base.py\", line 939, in _fit_liblinear\n",
      "    class_weight_ = compute_class_weight(class_weight, classes=classes_,\n",
      "  File \"/opt/conda/lib/python3.9/site-packages/sklearn/utils/validation.py\", line 63, in inner_f\n",
      "    return f(*args, **kwargs)\n",
      "  File \"/opt/conda/lib/python3.9/site-packages/sklearn/utils/class_weight.py\", line 63, in compute_class_weight\n",
      "    raise ValueError(\"class_weight must be dict, 'balanced', or None,\"\n",
      "ValueError: class_weight must be dict, 'balanced', or None, got: 'balnced'\n",
      "\n",
      "  warnings.warn(\"Estimator fit failed. The score on this train-test\"\n",
      "/opt/conda/lib/python3.9/site-packages/sklearn/model_selection/_validation.py:610: FitFailedWarning: Estimator fit failed. The score on this train-test partition for these parameters will be set to nan. Details: \n",
      "Traceback (most recent call last):\n",
      "  File \"/opt/conda/lib/python3.9/site-packages/sklearn/model_selection/_validation.py\", line 593, in _fit_and_score\n",
      "    estimator.fit(X_train, y_train, **fit_params)\n",
      "  File \"/opt/conda/lib/python3.9/site-packages/sklearn/linear_model/_logistic.py\", line 1358, in fit\n",
      "    self.coef_, self.intercept_, n_iter_ = _fit_liblinear(\n",
      "  File \"/opt/conda/lib/python3.9/site-packages/sklearn/svm/_base.py\", line 939, in _fit_liblinear\n",
      "    class_weight_ = compute_class_weight(class_weight, classes=classes_,\n",
      "  File \"/opt/conda/lib/python3.9/site-packages/sklearn/utils/validation.py\", line 63, in inner_f\n",
      "    return f(*args, **kwargs)\n",
      "  File \"/opt/conda/lib/python3.9/site-packages/sklearn/utils/class_weight.py\", line 63, in compute_class_weight\n",
      "    raise ValueError(\"class_weight must be dict, 'balanced', or None,\"\n",
      "ValueError: class_weight must be dict, 'balanced', or None, got: 'balnced'\n",
      "\n",
      "  warnings.warn(\"Estimator fit failed. The score on this train-test\"\n",
      "/opt/conda/lib/python3.9/site-packages/sklearn/model_selection/_validation.py:610: FitFailedWarning: Estimator fit failed. The score on this train-test partition for these parameters will be set to nan. Details: \n",
      "Traceback (most recent call last):\n",
      "  File \"/opt/conda/lib/python3.9/site-packages/sklearn/model_selection/_validation.py\", line 593, in _fit_and_score\n",
      "    estimator.fit(X_train, y_train, **fit_params)\n",
      "  File \"/opt/conda/lib/python3.9/site-packages/sklearn/linear_model/_logistic.py\", line 1358, in fit\n",
      "    self.coef_, self.intercept_, n_iter_ = _fit_liblinear(\n",
      "  File \"/opt/conda/lib/python3.9/site-packages/sklearn/svm/_base.py\", line 939, in _fit_liblinear\n",
      "    class_weight_ = compute_class_weight(class_weight, classes=classes_,\n",
      "  File \"/opt/conda/lib/python3.9/site-packages/sklearn/utils/validation.py\", line 63, in inner_f\n",
      "    return f(*args, **kwargs)\n",
      "  File \"/opt/conda/lib/python3.9/site-packages/sklearn/utils/class_weight.py\", line 63, in compute_class_weight\n",
      "    raise ValueError(\"class_weight must be dict, 'balanced', or None,\"\n",
      "ValueError: class_weight must be dict, 'balanced', or None, got: 'balnced'\n",
      "\n",
      "  warnings.warn(\"Estimator fit failed. The score on this train-test\"\n",
      "/opt/conda/lib/python3.9/site-packages/sklearn/model_selection/_validation.py:610: FitFailedWarning: Estimator fit failed. The score on this train-test partition for these parameters will be set to nan. Details: \n",
      "Traceback (most recent call last):\n",
      "  File \"/opt/conda/lib/python3.9/site-packages/sklearn/model_selection/_validation.py\", line 593, in _fit_and_score\n",
      "    estimator.fit(X_train, y_train, **fit_params)\n",
      "  File \"/opt/conda/lib/python3.9/site-packages/sklearn/linear_model/_logistic.py\", line 1358, in fit\n",
      "    self.coef_, self.intercept_, n_iter_ = _fit_liblinear(\n",
      "  File \"/opt/conda/lib/python3.9/site-packages/sklearn/svm/_base.py\", line 939, in _fit_liblinear\n",
      "    class_weight_ = compute_class_weight(class_weight, classes=classes_,\n",
      "  File \"/opt/conda/lib/python3.9/site-packages/sklearn/utils/validation.py\", line 63, in inner_f\n",
      "    return f(*args, **kwargs)\n",
      "  File \"/opt/conda/lib/python3.9/site-packages/sklearn/utils/class_weight.py\", line 63, in compute_class_weight\n",
      "    raise ValueError(\"class_weight must be dict, 'balanced', or None,\"\n",
      "ValueError: class_weight must be dict, 'balanced', or None, got: 'balnced'\n",
      "\n",
      "  warnings.warn(\"Estimator fit failed. The score on this train-test\"\n",
      "/opt/conda/lib/python3.9/site-packages/sklearn/model_selection/_validation.py:610: FitFailedWarning: Estimator fit failed. The score on this train-test partition for these parameters will be set to nan. Details: \n",
      "Traceback (most recent call last):\n",
      "  File \"/opt/conda/lib/python3.9/site-packages/sklearn/model_selection/_validation.py\", line 593, in _fit_and_score\n",
      "    estimator.fit(X_train, y_train, **fit_params)\n",
      "  File \"/opt/conda/lib/python3.9/site-packages/sklearn/linear_model/_logistic.py\", line 1358, in fit\n",
      "    self.coef_, self.intercept_, n_iter_ = _fit_liblinear(\n",
      "  File \"/opt/conda/lib/python3.9/site-packages/sklearn/svm/_base.py\", line 939, in _fit_liblinear\n",
      "    class_weight_ = compute_class_weight(class_weight, classes=classes_,\n",
      "  File \"/opt/conda/lib/python3.9/site-packages/sklearn/utils/validation.py\", line 63, in inner_f\n",
      "    return f(*args, **kwargs)\n",
      "  File \"/opt/conda/lib/python3.9/site-packages/sklearn/utils/class_weight.py\", line 63, in compute_class_weight\n",
      "    raise ValueError(\"class_weight must be dict, 'balanced', or None,\"\n",
      "ValueError: class_weight must be dict, 'balanced', or None, got: 'balnced'\n",
      "\n",
      "  warnings.warn(\"Estimator fit failed. The score on this train-test\"\n",
      "/opt/conda/lib/python3.9/site-packages/sklearn/model_selection/_validation.py:610: FitFailedWarning: Estimator fit failed. The score on this train-test partition for these parameters will be set to nan. Details: \n",
      "Traceback (most recent call last):\n",
      "  File \"/opt/conda/lib/python3.9/site-packages/sklearn/model_selection/_validation.py\", line 593, in _fit_and_score\n",
      "    estimator.fit(X_train, y_train, **fit_params)\n",
      "  File \"/opt/conda/lib/python3.9/site-packages/sklearn/linear_model/_logistic.py\", line 1358, in fit\n",
      "    self.coef_, self.intercept_, n_iter_ = _fit_liblinear(\n",
      "  File \"/opt/conda/lib/python3.9/site-packages/sklearn/svm/_base.py\", line 939, in _fit_liblinear\n",
      "    class_weight_ = compute_class_weight(class_weight, classes=classes_,\n",
      "  File \"/opt/conda/lib/python3.9/site-packages/sklearn/utils/validation.py\", line 63, in inner_f\n",
      "    return f(*args, **kwargs)\n",
      "  File \"/opt/conda/lib/python3.9/site-packages/sklearn/utils/class_weight.py\", line 63, in compute_class_weight\n",
      "    raise ValueError(\"class_weight must be dict, 'balanced', or None,\"\n",
      "ValueError: class_weight must be dict, 'balanced', or None, got: 'balnced'\n",
      "\n",
      "  warnings.warn(\"Estimator fit failed. The score on this train-test\"\n",
      "/opt/conda/lib/python3.9/site-packages/sklearn/model_selection/_validation.py:610: FitFailedWarning: Estimator fit failed. The score on this train-test partition for these parameters will be set to nan. Details: \n",
      "Traceback (most recent call last):\n",
      "  File \"/opt/conda/lib/python3.9/site-packages/sklearn/model_selection/_validation.py\", line 593, in _fit_and_score\n",
      "    estimator.fit(X_train, y_train, **fit_params)\n",
      "  File \"/opt/conda/lib/python3.9/site-packages/sklearn/linear_model/_logistic.py\", line 1358, in fit\n",
      "    self.coef_, self.intercept_, n_iter_ = _fit_liblinear(\n",
      "  File \"/opt/conda/lib/python3.9/site-packages/sklearn/svm/_base.py\", line 939, in _fit_liblinear\n",
      "    class_weight_ = compute_class_weight(class_weight, classes=classes_,\n",
      "  File \"/opt/conda/lib/python3.9/site-packages/sklearn/utils/validation.py\", line 63, in inner_f\n",
      "    return f(*args, **kwargs)\n",
      "  File \"/opt/conda/lib/python3.9/site-packages/sklearn/utils/class_weight.py\", line 63, in compute_class_weight\n",
      "    raise ValueError(\"class_weight must be dict, 'balanced', or None,\"\n",
      "ValueError: class_weight must be dict, 'balanced', or None, got: 'balnced'\n",
      "\n",
      "  warnings.warn(\"Estimator fit failed. The score on this train-test\"\n",
      "/opt/conda/lib/python3.9/site-packages/sklearn/model_selection/_validation.py:610: FitFailedWarning: Estimator fit failed. The score on this train-test partition for these parameters will be set to nan. Details: \n",
      "Traceback (most recent call last):\n",
      "  File \"/opt/conda/lib/python3.9/site-packages/sklearn/model_selection/_validation.py\", line 593, in _fit_and_score\n",
      "    estimator.fit(X_train, y_train, **fit_params)\n",
      "  File \"/opt/conda/lib/python3.9/site-packages/sklearn/linear_model/_logistic.py\", line 1358, in fit\n",
      "    self.coef_, self.intercept_, n_iter_ = _fit_liblinear(\n",
      "  File \"/opt/conda/lib/python3.9/site-packages/sklearn/svm/_base.py\", line 939, in _fit_liblinear\n",
      "    class_weight_ = compute_class_weight(class_weight, classes=classes_,\n",
      "  File \"/opt/conda/lib/python3.9/site-packages/sklearn/utils/validation.py\", line 63, in inner_f\n",
      "    return f(*args, **kwargs)\n",
      "  File \"/opt/conda/lib/python3.9/site-packages/sklearn/utils/class_weight.py\", line 63, in compute_class_weight\n",
      "    raise ValueError(\"class_weight must be dict, 'balanced', or None,\"\n",
      "ValueError: class_weight must be dict, 'balanced', or None, got: 'balnced'\n",
      "\n",
      "  warnings.warn(\"Estimator fit failed. The score on this train-test\"\n",
      "/opt/conda/lib/python3.9/site-packages/sklearn/model_selection/_validation.py:610: FitFailedWarning: Estimator fit failed. The score on this train-test partition for these parameters will be set to nan. Details: \n",
      "Traceback (most recent call last):\n",
      "  File \"/opt/conda/lib/python3.9/site-packages/sklearn/model_selection/_validation.py\", line 593, in _fit_and_score\n",
      "    estimator.fit(X_train, y_train, **fit_params)\n",
      "  File \"/opt/conda/lib/python3.9/site-packages/sklearn/linear_model/_logistic.py\", line 1358, in fit\n",
      "    self.coef_, self.intercept_, n_iter_ = _fit_liblinear(\n",
      "  File \"/opt/conda/lib/python3.9/site-packages/sklearn/svm/_base.py\", line 939, in _fit_liblinear\n",
      "    class_weight_ = compute_class_weight(class_weight, classes=classes_,\n",
      "  File \"/opt/conda/lib/python3.9/site-packages/sklearn/utils/validation.py\", line 63, in inner_f\n",
      "    return f(*args, **kwargs)\n",
      "  File \"/opt/conda/lib/python3.9/site-packages/sklearn/utils/class_weight.py\", line 63, in compute_class_weight\n",
      "    raise ValueError(\"class_weight must be dict, 'balanced', or None,\"\n",
      "ValueError: class_weight must be dict, 'balanced', or None, got: 'balnced'\n",
      "\n",
      "  warnings.warn(\"Estimator fit failed. The score on this train-test\"\n",
      "/opt/conda/lib/python3.9/site-packages/sklearn/model_selection/_validation.py:610: FitFailedWarning: Estimator fit failed. The score on this train-test partition for these parameters will be set to nan. Details: \n",
      "Traceback (most recent call last):\n",
      "  File \"/opt/conda/lib/python3.9/site-packages/sklearn/model_selection/_validation.py\", line 593, in _fit_and_score\n",
      "    estimator.fit(X_train, y_train, **fit_params)\n",
      "  File \"/opt/conda/lib/python3.9/site-packages/sklearn/linear_model/_logistic.py\", line 1358, in fit\n",
      "    self.coef_, self.intercept_, n_iter_ = _fit_liblinear(\n",
      "  File \"/opt/conda/lib/python3.9/site-packages/sklearn/svm/_base.py\", line 939, in _fit_liblinear\n",
      "    class_weight_ = compute_class_weight(class_weight, classes=classes_,\n",
      "  File \"/opt/conda/lib/python3.9/site-packages/sklearn/utils/validation.py\", line 63, in inner_f\n",
      "    return f(*args, **kwargs)\n",
      "  File \"/opt/conda/lib/python3.9/site-packages/sklearn/utils/class_weight.py\", line 63, in compute_class_weight\n",
      "    raise ValueError(\"class_weight must be dict, 'balanced', or None,\"\n",
      "ValueError: class_weight must be dict, 'balanced', or None, got: 'balnced'\n",
      "\n",
      "  warnings.warn(\"Estimator fit failed. The score on this train-test\"\n",
      "/opt/conda/lib/python3.9/site-packages/sklearn/model_selection/_validation.py:610: FitFailedWarning: Estimator fit failed. The score on this train-test partition for these parameters will be set to nan. Details: \n",
      "Traceback (most recent call last):\n",
      "  File \"/opt/conda/lib/python3.9/site-packages/sklearn/model_selection/_validation.py\", line 593, in _fit_and_score\n",
      "    estimator.fit(X_train, y_train, **fit_params)\n",
      "  File \"/opt/conda/lib/python3.9/site-packages/sklearn/linear_model/_logistic.py\", line 1358, in fit\n",
      "    self.coef_, self.intercept_, n_iter_ = _fit_liblinear(\n",
      "  File \"/opt/conda/lib/python3.9/site-packages/sklearn/svm/_base.py\", line 939, in _fit_liblinear\n",
      "    class_weight_ = compute_class_weight(class_weight, classes=classes_,\n",
      "  File \"/opt/conda/lib/python3.9/site-packages/sklearn/utils/validation.py\", line 63, in inner_f\n",
      "    return f(*args, **kwargs)\n",
      "  File \"/opt/conda/lib/python3.9/site-packages/sklearn/utils/class_weight.py\", line 63, in compute_class_weight\n",
      "    raise ValueError(\"class_weight must be dict, 'balanced', or None,\"\n",
      "ValueError: class_weight must be dict, 'balanced', or None, got: 'balnced'\n",
      "\n",
      "  warnings.warn(\"Estimator fit failed. The score on this train-test\"\n",
      "/opt/conda/lib/python3.9/site-packages/sklearn/model_selection/_validation.py:610: FitFailedWarning: Estimator fit failed. The score on this train-test partition for these parameters will be set to nan. Details: \n",
      "Traceback (most recent call last):\n",
      "  File \"/opt/conda/lib/python3.9/site-packages/sklearn/model_selection/_validation.py\", line 593, in _fit_and_score\n",
      "    estimator.fit(X_train, y_train, **fit_params)\n",
      "  File \"/opt/conda/lib/python3.9/site-packages/sklearn/linear_model/_logistic.py\", line 1358, in fit\n",
      "    self.coef_, self.intercept_, n_iter_ = _fit_liblinear(\n",
      "  File \"/opt/conda/lib/python3.9/site-packages/sklearn/svm/_base.py\", line 939, in _fit_liblinear\n",
      "    class_weight_ = compute_class_weight(class_weight, classes=classes_,\n",
      "  File \"/opt/conda/lib/python3.9/site-packages/sklearn/utils/validation.py\", line 63, in inner_f\n",
      "    return f(*args, **kwargs)\n",
      "  File \"/opt/conda/lib/python3.9/site-packages/sklearn/utils/class_weight.py\", line 63, in compute_class_weight\n",
      "    raise ValueError(\"class_weight must be dict, 'balanced', or None,\"\n",
      "ValueError: class_weight must be dict, 'balanced', or None, got: 'balnced'\n",
      "\n",
      "  warnings.warn(\"Estimator fit failed. The score on this train-test\"\n",
      "/opt/conda/lib/python3.9/site-packages/sklearn/model_selection/_validation.py:610: FitFailedWarning: Estimator fit failed. The score on this train-test partition for these parameters will be set to nan. Details: \n",
      "Traceback (most recent call last):\n",
      "  File \"/opt/conda/lib/python3.9/site-packages/sklearn/model_selection/_validation.py\", line 593, in _fit_and_score\n",
      "    estimator.fit(X_train, y_train, **fit_params)\n",
      "  File \"/opt/conda/lib/python3.9/site-packages/sklearn/linear_model/_logistic.py\", line 1358, in fit\n",
      "    self.coef_, self.intercept_, n_iter_ = _fit_liblinear(\n",
      "  File \"/opt/conda/lib/python3.9/site-packages/sklearn/svm/_base.py\", line 939, in _fit_liblinear\n",
      "    class_weight_ = compute_class_weight(class_weight, classes=classes_,\n",
      "  File \"/opt/conda/lib/python3.9/site-packages/sklearn/utils/validation.py\", line 63, in inner_f\n",
      "    return f(*args, **kwargs)\n",
      "  File \"/opt/conda/lib/python3.9/site-packages/sklearn/utils/class_weight.py\", line 63, in compute_class_weight\n",
      "    raise ValueError(\"class_weight must be dict, 'balanced', or None,\"\n",
      "ValueError: class_weight must be dict, 'balanced', or None, got: 'balnced'\n",
      "\n",
      "  warnings.warn(\"Estimator fit failed. The score on this train-test\"\n",
      "/opt/conda/lib/python3.9/site-packages/sklearn/model_selection/_validation.py:610: FitFailedWarning: Estimator fit failed. The score on this train-test partition for these parameters will be set to nan. Details: \n",
      "Traceback (most recent call last):\n",
      "  File \"/opt/conda/lib/python3.9/site-packages/sklearn/model_selection/_validation.py\", line 593, in _fit_and_score\n",
      "    estimator.fit(X_train, y_train, **fit_params)\n",
      "  File \"/opt/conda/lib/python3.9/site-packages/sklearn/linear_model/_logistic.py\", line 1358, in fit\n",
      "    self.coef_, self.intercept_, n_iter_ = _fit_liblinear(\n",
      "  File \"/opt/conda/lib/python3.9/site-packages/sklearn/svm/_base.py\", line 939, in _fit_liblinear\n",
      "    class_weight_ = compute_class_weight(class_weight, classes=classes_,\n",
      "  File \"/opt/conda/lib/python3.9/site-packages/sklearn/utils/validation.py\", line 63, in inner_f\n",
      "    return f(*args, **kwargs)\n",
      "  File \"/opt/conda/lib/python3.9/site-packages/sklearn/utils/class_weight.py\", line 63, in compute_class_weight\n",
      "    raise ValueError(\"class_weight must be dict, 'balanced', or None,\"\n",
      "ValueError: class_weight must be dict, 'balanced', or None, got: 'balnced'\n",
      "\n",
      "  warnings.warn(\"Estimator fit failed. The score on this train-test\"\n",
      "/opt/conda/lib/python3.9/site-packages/sklearn/model_selection/_validation.py:610: FitFailedWarning: Estimator fit failed. The score on this train-test partition for these parameters will be set to nan. Details: \n",
      "Traceback (most recent call last):\n",
      "  File \"/opt/conda/lib/python3.9/site-packages/sklearn/model_selection/_validation.py\", line 593, in _fit_and_score\n",
      "    estimator.fit(X_train, y_train, **fit_params)\n",
      "  File \"/opt/conda/lib/python3.9/site-packages/sklearn/linear_model/_logistic.py\", line 1358, in fit\n",
      "    self.coef_, self.intercept_, n_iter_ = _fit_liblinear(\n",
      "  File \"/opt/conda/lib/python3.9/site-packages/sklearn/svm/_base.py\", line 939, in _fit_liblinear\n",
      "    class_weight_ = compute_class_weight(class_weight, classes=classes_,\n",
      "  File \"/opt/conda/lib/python3.9/site-packages/sklearn/utils/validation.py\", line 63, in inner_f\n",
      "    return f(*args, **kwargs)\n",
      "  File \"/opt/conda/lib/python3.9/site-packages/sklearn/utils/class_weight.py\", line 63, in compute_class_weight\n",
      "    raise ValueError(\"class_weight must be dict, 'balanced', or None,\"\n",
      "ValueError: class_weight must be dict, 'balanced', or None, got: 'balnced'\n",
      "\n",
      "  warnings.warn(\"Estimator fit failed. The score on this train-test\"\n",
      "/opt/conda/lib/python3.9/site-packages/sklearn/model_selection/_validation.py:610: FitFailedWarning: Estimator fit failed. The score on this train-test partition for these parameters will be set to nan. Details: \n",
      "Traceback (most recent call last):\n",
      "  File \"/opt/conda/lib/python3.9/site-packages/sklearn/model_selection/_validation.py\", line 593, in _fit_and_score\n",
      "    estimator.fit(X_train, y_train, **fit_params)\n",
      "  File \"/opt/conda/lib/python3.9/site-packages/sklearn/linear_model/_logistic.py\", line 1358, in fit\n",
      "    self.coef_, self.intercept_, n_iter_ = _fit_liblinear(\n",
      "  File \"/opt/conda/lib/python3.9/site-packages/sklearn/svm/_base.py\", line 939, in _fit_liblinear\n",
      "    class_weight_ = compute_class_weight(class_weight, classes=classes_,\n",
      "  File \"/opt/conda/lib/python3.9/site-packages/sklearn/utils/validation.py\", line 63, in inner_f\n",
      "    return f(*args, **kwargs)\n",
      "  File \"/opt/conda/lib/python3.9/site-packages/sklearn/utils/class_weight.py\", line 63, in compute_class_weight\n",
      "    raise ValueError(\"class_weight must be dict, 'balanced', or None,\"\n",
      "ValueError: class_weight must be dict, 'balanced', or None, got: 'balnced'\n",
      "\n",
      "  warnings.warn(\"Estimator fit failed. The score on this train-test\"\n",
      "/opt/conda/lib/python3.9/site-packages/sklearn/model_selection/_validation.py:610: FitFailedWarning: Estimator fit failed. The score on this train-test partition for these parameters will be set to nan. Details: \n",
      "Traceback (most recent call last):\n",
      "  File \"/opt/conda/lib/python3.9/site-packages/sklearn/model_selection/_validation.py\", line 593, in _fit_and_score\n",
      "    estimator.fit(X_train, y_train, **fit_params)\n",
      "  File \"/opt/conda/lib/python3.9/site-packages/sklearn/linear_model/_logistic.py\", line 1358, in fit\n",
      "    self.coef_, self.intercept_, n_iter_ = _fit_liblinear(\n",
      "  File \"/opt/conda/lib/python3.9/site-packages/sklearn/svm/_base.py\", line 939, in _fit_liblinear\n",
      "    class_weight_ = compute_class_weight(class_weight, classes=classes_,\n",
      "  File \"/opt/conda/lib/python3.9/site-packages/sklearn/utils/validation.py\", line 63, in inner_f\n",
      "    return f(*args, **kwargs)\n",
      "  File \"/opt/conda/lib/python3.9/site-packages/sklearn/utils/class_weight.py\", line 63, in compute_class_weight\n",
      "    raise ValueError(\"class_weight must be dict, 'balanced', or None,\"\n",
      "ValueError: class_weight must be dict, 'balanced', or None, got: 'balnced'\n",
      "\n",
      "  warnings.warn(\"Estimator fit failed. The score on this train-test\"\n",
      "/opt/conda/lib/python3.9/site-packages/sklearn/model_selection/_validation.py:610: FitFailedWarning: Estimator fit failed. The score on this train-test partition for these parameters will be set to nan. Details: \n",
      "Traceback (most recent call last):\n",
      "  File \"/opt/conda/lib/python3.9/site-packages/sklearn/model_selection/_validation.py\", line 593, in _fit_and_score\n",
      "    estimator.fit(X_train, y_train, **fit_params)\n",
      "  File \"/opt/conda/lib/python3.9/site-packages/sklearn/linear_model/_logistic.py\", line 1358, in fit\n",
      "    self.coef_, self.intercept_, n_iter_ = _fit_liblinear(\n",
      "  File \"/opt/conda/lib/python3.9/site-packages/sklearn/svm/_base.py\", line 939, in _fit_liblinear\n",
      "    class_weight_ = compute_class_weight(class_weight, classes=classes_,\n",
      "  File \"/opt/conda/lib/python3.9/site-packages/sklearn/utils/validation.py\", line 63, in inner_f\n",
      "    return f(*args, **kwargs)\n",
      "  File \"/opt/conda/lib/python3.9/site-packages/sklearn/utils/class_weight.py\", line 63, in compute_class_weight\n",
      "    raise ValueError(\"class_weight must be dict, 'balanced', or None,\"\n",
      "ValueError: class_weight must be dict, 'balanced', or None, got: 'balnced'\n",
      "\n",
      "  warnings.warn(\"Estimator fit failed. The score on this train-test\"\n",
      "/opt/conda/lib/python3.9/site-packages/sklearn/linear_model/_sag.py:328: ConvergenceWarning: The max_iter was reached which means the coef_ did not converge\n",
      "  warnings.warn(\"The max_iter was reached which means \"\n",
      "/opt/conda/lib/python3.9/site-packages/sklearn/linear_model/_sag.py:328: ConvergenceWarning: The max_iter was reached which means the coef_ did not converge\n",
      "  warnings.warn(\"The max_iter was reached which means \"\n",
      "/opt/conda/lib/python3.9/site-packages/sklearn/linear_model/_sag.py:328: ConvergenceWarning: The max_iter was reached which means the coef_ did not converge\n",
      "  warnings.warn(\"The max_iter was reached which means \"\n",
      "/opt/conda/lib/python3.9/site-packages/sklearn/linear_model/_sag.py:328: ConvergenceWarning: The max_iter was reached which means the coef_ did not converge\n",
      "  warnings.warn(\"The max_iter was reached which means \"\n",
      "/opt/conda/lib/python3.9/site-packages/sklearn/linear_model/_sag.py:328: ConvergenceWarning: The max_iter was reached which means the coef_ did not converge\n",
      "  warnings.warn(\"The max_iter was reached which means \"\n",
      "/opt/conda/lib/python3.9/site-packages/sklearn/model_selection/_validation.py:610: FitFailedWarning: Estimator fit failed. The score on this train-test partition for these parameters will be set to nan. Details: \n",
      "Traceback (most recent call last):\n",
      "  File \"/opt/conda/lib/python3.9/site-packages/sklearn/model_selection/_validation.py\", line 593, in _fit_and_score\n",
      "    estimator.fit(X_train, y_train, **fit_params)\n",
      "  File \"/opt/conda/lib/python3.9/site-packages/sklearn/linear_model/_logistic.py\", line 1358, in fit\n",
      "    self.coef_, self.intercept_, n_iter_ = _fit_liblinear(\n",
      "  File \"/opt/conda/lib/python3.9/site-packages/sklearn/svm/_base.py\", line 939, in _fit_liblinear\n",
      "    class_weight_ = compute_class_weight(class_weight, classes=classes_,\n",
      "  File \"/opt/conda/lib/python3.9/site-packages/sklearn/utils/validation.py\", line 63, in inner_f\n",
      "    return f(*args, **kwargs)\n",
      "  File \"/opt/conda/lib/python3.9/site-packages/sklearn/utils/class_weight.py\", line 63, in compute_class_weight\n",
      "    raise ValueError(\"class_weight must be dict, 'balanced', or None,\"\n",
      "ValueError: class_weight must be dict, 'balanced', or None, got: 'balnced'\n",
      "\n",
      "  warnings.warn(\"Estimator fit failed. The score on this train-test\"\n",
      "/opt/conda/lib/python3.9/site-packages/sklearn/model_selection/_validation.py:610: FitFailedWarning: Estimator fit failed. The score on this train-test partition for these parameters will be set to nan. Details: \n",
      "Traceback (most recent call last):\n",
      "  File \"/opt/conda/lib/python3.9/site-packages/sklearn/model_selection/_validation.py\", line 593, in _fit_and_score\n",
      "    estimator.fit(X_train, y_train, **fit_params)\n",
      "  File \"/opt/conda/lib/python3.9/site-packages/sklearn/linear_model/_logistic.py\", line 1358, in fit\n",
      "    self.coef_, self.intercept_, n_iter_ = _fit_liblinear(\n",
      "  File \"/opt/conda/lib/python3.9/site-packages/sklearn/svm/_base.py\", line 939, in _fit_liblinear\n",
      "    class_weight_ = compute_class_weight(class_weight, classes=classes_,\n",
      "  File \"/opt/conda/lib/python3.9/site-packages/sklearn/utils/validation.py\", line 63, in inner_f\n",
      "    return f(*args, **kwargs)\n",
      "  File \"/opt/conda/lib/python3.9/site-packages/sklearn/utils/class_weight.py\", line 63, in compute_class_weight\n",
      "    raise ValueError(\"class_weight must be dict, 'balanced', or None,\"\n",
      "ValueError: class_weight must be dict, 'balanced', or None, got: 'balnced'\n",
      "\n",
      "  warnings.warn(\"Estimator fit failed. The score on this train-test\"\n",
      "/opt/conda/lib/python3.9/site-packages/sklearn/model_selection/_validation.py:610: FitFailedWarning: Estimator fit failed. The score on this train-test partition for these parameters will be set to nan. Details: \n",
      "Traceback (most recent call last):\n",
      "  File \"/opt/conda/lib/python3.9/site-packages/sklearn/model_selection/_validation.py\", line 593, in _fit_and_score\n",
      "    estimator.fit(X_train, y_train, **fit_params)\n",
      "  File \"/opt/conda/lib/python3.9/site-packages/sklearn/linear_model/_logistic.py\", line 1358, in fit\n",
      "    self.coef_, self.intercept_, n_iter_ = _fit_liblinear(\n",
      "  File \"/opt/conda/lib/python3.9/site-packages/sklearn/svm/_base.py\", line 939, in _fit_liblinear\n",
      "    class_weight_ = compute_class_weight(class_weight, classes=classes_,\n",
      "  File \"/opt/conda/lib/python3.9/site-packages/sklearn/utils/validation.py\", line 63, in inner_f\n",
      "    return f(*args, **kwargs)\n",
      "  File \"/opt/conda/lib/python3.9/site-packages/sklearn/utils/class_weight.py\", line 63, in compute_class_weight\n",
      "    raise ValueError(\"class_weight must be dict, 'balanced', or None,\"\n",
      "ValueError: class_weight must be dict, 'balanced', or None, got: 'balnced'\n",
      "\n",
      "  warnings.warn(\"Estimator fit failed. The score on this train-test\"\n",
      "/opt/conda/lib/python3.9/site-packages/sklearn/model_selection/_validation.py:610: FitFailedWarning: Estimator fit failed. The score on this train-test partition for these parameters will be set to nan. Details: \n",
      "Traceback (most recent call last):\n",
      "  File \"/opt/conda/lib/python3.9/site-packages/sklearn/model_selection/_validation.py\", line 593, in _fit_and_score\n",
      "    estimator.fit(X_train, y_train, **fit_params)\n",
      "  File \"/opt/conda/lib/python3.9/site-packages/sklearn/linear_model/_logistic.py\", line 1358, in fit\n",
      "    self.coef_, self.intercept_, n_iter_ = _fit_liblinear(\n",
      "  File \"/opt/conda/lib/python3.9/site-packages/sklearn/svm/_base.py\", line 939, in _fit_liblinear\n",
      "    class_weight_ = compute_class_weight(class_weight, classes=classes_,\n",
      "  File \"/opt/conda/lib/python3.9/site-packages/sklearn/utils/validation.py\", line 63, in inner_f\n",
      "    return f(*args, **kwargs)\n",
      "  File \"/opt/conda/lib/python3.9/site-packages/sklearn/utils/class_weight.py\", line 63, in compute_class_weight\n",
      "    raise ValueError(\"class_weight must be dict, 'balanced', or None,\"\n",
      "ValueError: class_weight must be dict, 'balanced', or None, got: 'balnced'\n",
      "\n",
      "  warnings.warn(\"Estimator fit failed. The score on this train-test\"\n",
      "/opt/conda/lib/python3.9/site-packages/sklearn/model_selection/_validation.py:610: FitFailedWarning: Estimator fit failed. The score on this train-test partition for these parameters will be set to nan. Details: \n",
      "Traceback (most recent call last):\n",
      "  File \"/opt/conda/lib/python3.9/site-packages/sklearn/model_selection/_validation.py\", line 593, in _fit_and_score\n",
      "    estimator.fit(X_train, y_train, **fit_params)\n",
      "  File \"/opt/conda/lib/python3.9/site-packages/sklearn/linear_model/_logistic.py\", line 1358, in fit\n",
      "    self.coef_, self.intercept_, n_iter_ = _fit_liblinear(\n",
      "  File \"/opt/conda/lib/python3.9/site-packages/sklearn/svm/_base.py\", line 939, in _fit_liblinear\n",
      "    class_weight_ = compute_class_weight(class_weight, classes=classes_,\n",
      "  File \"/opt/conda/lib/python3.9/site-packages/sklearn/utils/validation.py\", line 63, in inner_f\n",
      "    return f(*args, **kwargs)\n",
      "  File \"/opt/conda/lib/python3.9/site-packages/sklearn/utils/class_weight.py\", line 63, in compute_class_weight\n",
      "    raise ValueError(\"class_weight must be dict, 'balanced', or None,\"\n",
      "ValueError: class_weight must be dict, 'balanced', or None, got: 'balnced'\n",
      "\n",
      "  warnings.warn(\"Estimator fit failed. The score on this train-test\"\n",
      "/opt/conda/lib/python3.9/site-packages/sklearn/model_selection/_validation.py:610: FitFailedWarning: Estimator fit failed. The score on this train-test partition for these parameters will be set to nan. Details: \n",
      "Traceback (most recent call last):\n",
      "  File \"/opt/conda/lib/python3.9/site-packages/sklearn/model_selection/_validation.py\", line 593, in _fit_and_score\n",
      "    estimator.fit(X_train, y_train, **fit_params)\n",
      "  File \"/opt/conda/lib/python3.9/site-packages/sklearn/linear_model/_logistic.py\", line 1358, in fit\n",
      "    self.coef_, self.intercept_, n_iter_ = _fit_liblinear(\n",
      "  File \"/opt/conda/lib/python3.9/site-packages/sklearn/svm/_base.py\", line 939, in _fit_liblinear\n",
      "    class_weight_ = compute_class_weight(class_weight, classes=classes_,\n",
      "  File \"/opt/conda/lib/python3.9/site-packages/sklearn/utils/validation.py\", line 63, in inner_f\n",
      "    return f(*args, **kwargs)\n",
      "  File \"/opt/conda/lib/python3.9/site-packages/sklearn/utils/class_weight.py\", line 63, in compute_class_weight\n",
      "    raise ValueError(\"class_weight must be dict, 'balanced', or None,\"\n",
      "ValueError: class_weight must be dict, 'balanced', or None, got: 'balnced'\n",
      "\n",
      "  warnings.warn(\"Estimator fit failed. The score on this train-test\"\n",
      "/opt/conda/lib/python3.9/site-packages/sklearn/model_selection/_validation.py:610: FitFailedWarning: Estimator fit failed. The score on this train-test partition for these parameters will be set to nan. Details: \n",
      "Traceback (most recent call last):\n",
      "  File \"/opt/conda/lib/python3.9/site-packages/sklearn/model_selection/_validation.py\", line 593, in _fit_and_score\n",
      "    estimator.fit(X_train, y_train, **fit_params)\n",
      "  File \"/opt/conda/lib/python3.9/site-packages/sklearn/linear_model/_logistic.py\", line 1358, in fit\n",
      "    self.coef_, self.intercept_, n_iter_ = _fit_liblinear(\n",
      "  File \"/opt/conda/lib/python3.9/site-packages/sklearn/svm/_base.py\", line 939, in _fit_liblinear\n",
      "    class_weight_ = compute_class_weight(class_weight, classes=classes_,\n",
      "  File \"/opt/conda/lib/python3.9/site-packages/sklearn/utils/validation.py\", line 63, in inner_f\n",
      "    return f(*args, **kwargs)\n",
      "  File \"/opt/conda/lib/python3.9/site-packages/sklearn/utils/class_weight.py\", line 63, in compute_class_weight\n",
      "    raise ValueError(\"class_weight must be dict, 'balanced', or None,\"\n",
      "ValueError: class_weight must be dict, 'balanced', or None, got: 'balnced'\n",
      "\n",
      "  warnings.warn(\"Estimator fit failed. The score on this train-test\"\n",
      "/opt/conda/lib/python3.9/site-packages/sklearn/model_selection/_validation.py:610: FitFailedWarning: Estimator fit failed. The score on this train-test partition for these parameters will be set to nan. Details: \n",
      "Traceback (most recent call last):\n",
      "  File \"/opt/conda/lib/python3.9/site-packages/sklearn/model_selection/_validation.py\", line 593, in _fit_and_score\n",
      "    estimator.fit(X_train, y_train, **fit_params)\n",
      "  File \"/opt/conda/lib/python3.9/site-packages/sklearn/linear_model/_logistic.py\", line 1358, in fit\n",
      "    self.coef_, self.intercept_, n_iter_ = _fit_liblinear(\n",
      "  File \"/opt/conda/lib/python3.9/site-packages/sklearn/svm/_base.py\", line 939, in _fit_liblinear\n",
      "    class_weight_ = compute_class_weight(class_weight, classes=classes_,\n",
      "  File \"/opt/conda/lib/python3.9/site-packages/sklearn/utils/validation.py\", line 63, in inner_f\n",
      "    return f(*args, **kwargs)\n",
      "  File \"/opt/conda/lib/python3.9/site-packages/sklearn/utils/class_weight.py\", line 63, in compute_class_weight\n",
      "    raise ValueError(\"class_weight must be dict, 'balanced', or None,\"\n",
      "ValueError: class_weight must be dict, 'balanced', or None, got: 'balnced'\n",
      "\n",
      "  warnings.warn(\"Estimator fit failed. The score on this train-test\"\n",
      "/opt/conda/lib/python3.9/site-packages/sklearn/model_selection/_validation.py:610: FitFailedWarning: Estimator fit failed. The score on this train-test partition for these parameters will be set to nan. Details: \n",
      "Traceback (most recent call last):\n",
      "  File \"/opt/conda/lib/python3.9/site-packages/sklearn/model_selection/_validation.py\", line 593, in _fit_and_score\n",
      "    estimator.fit(X_train, y_train, **fit_params)\n",
      "  File \"/opt/conda/lib/python3.9/site-packages/sklearn/linear_model/_logistic.py\", line 1358, in fit\n",
      "    self.coef_, self.intercept_, n_iter_ = _fit_liblinear(\n",
      "  File \"/opt/conda/lib/python3.9/site-packages/sklearn/svm/_base.py\", line 939, in _fit_liblinear\n",
      "    class_weight_ = compute_class_weight(class_weight, classes=classes_,\n",
      "  File \"/opt/conda/lib/python3.9/site-packages/sklearn/utils/validation.py\", line 63, in inner_f\n",
      "    return f(*args, **kwargs)\n",
      "  File \"/opt/conda/lib/python3.9/site-packages/sklearn/utils/class_weight.py\", line 63, in compute_class_weight\n",
      "    raise ValueError(\"class_weight must be dict, 'balanced', or None,\"\n",
      "ValueError: class_weight must be dict, 'balanced', or None, got: 'balnced'\n",
      "\n",
      "  warnings.warn(\"Estimator fit failed. The score on this train-test\"\n",
      "/opt/conda/lib/python3.9/site-packages/sklearn/model_selection/_validation.py:610: FitFailedWarning: Estimator fit failed. The score on this train-test partition for these parameters will be set to nan. Details: \n",
      "Traceback (most recent call last):\n",
      "  File \"/opt/conda/lib/python3.9/site-packages/sklearn/model_selection/_validation.py\", line 593, in _fit_and_score\n",
      "    estimator.fit(X_train, y_train, **fit_params)\n",
      "  File \"/opt/conda/lib/python3.9/site-packages/sklearn/linear_model/_logistic.py\", line 1358, in fit\n",
      "    self.coef_, self.intercept_, n_iter_ = _fit_liblinear(\n",
      "  File \"/opt/conda/lib/python3.9/site-packages/sklearn/svm/_base.py\", line 939, in _fit_liblinear\n",
      "    class_weight_ = compute_class_weight(class_weight, classes=classes_,\n",
      "  File \"/opt/conda/lib/python3.9/site-packages/sklearn/utils/validation.py\", line 63, in inner_f\n",
      "    return f(*args, **kwargs)\n",
      "  File \"/opt/conda/lib/python3.9/site-packages/sklearn/utils/class_weight.py\", line 63, in compute_class_weight\n",
      "    raise ValueError(\"class_weight must be dict, 'balanced', or None,\"\n",
      "ValueError: class_weight must be dict, 'balanced', or None, got: 'balnced'\n",
      "\n",
      "  warnings.warn(\"Estimator fit failed. The score on this train-test\"\n",
      "/opt/conda/lib/python3.9/site-packages/sklearn/linear_model/_sag.py:328: ConvergenceWarning: The max_iter was reached which means the coef_ did not converge\n",
      "  warnings.warn(\"The max_iter was reached which means \"\n",
      "/opt/conda/lib/python3.9/site-packages/sklearn/linear_model/_sag.py:328: ConvergenceWarning: The max_iter was reached which means the coef_ did not converge\n",
      "  warnings.warn(\"The max_iter was reached which means \"\n",
      "/opt/conda/lib/python3.9/site-packages/sklearn/linear_model/_sag.py:328: ConvergenceWarning: The max_iter was reached which means the coef_ did not converge\n",
      "  warnings.warn(\"The max_iter was reached which means \"\n",
      "/opt/conda/lib/python3.9/site-packages/sklearn/linear_model/_sag.py:328: ConvergenceWarning: The max_iter was reached which means the coef_ did not converge\n",
      "  warnings.warn(\"The max_iter was reached which means \"\n",
      "/opt/conda/lib/python3.9/site-packages/sklearn/linear_model/_sag.py:328: ConvergenceWarning: The max_iter was reached which means the coef_ did not converge\n",
      "  warnings.warn(\"The max_iter was reached which means \"\n",
      "/opt/conda/lib/python3.9/site-packages/sklearn/model_selection/_validation.py:610: FitFailedWarning: Estimator fit failed. The score on this train-test partition for these parameters will be set to nan. Details: \n",
      "Traceback (most recent call last):\n",
      "  File \"/opt/conda/lib/python3.9/site-packages/sklearn/model_selection/_validation.py\", line 593, in _fit_and_score\n",
      "    estimator.fit(X_train, y_train, **fit_params)\n",
      "  File \"/opt/conda/lib/python3.9/site-packages/sklearn/linear_model/_logistic.py\", line 1358, in fit\n",
      "    self.coef_, self.intercept_, n_iter_ = _fit_liblinear(\n",
      "  File \"/opt/conda/lib/python3.9/site-packages/sklearn/svm/_base.py\", line 939, in _fit_liblinear\n",
      "    class_weight_ = compute_class_weight(class_weight, classes=classes_,\n",
      "  File \"/opt/conda/lib/python3.9/site-packages/sklearn/utils/validation.py\", line 63, in inner_f\n",
      "    return f(*args, **kwargs)\n",
      "  File \"/opt/conda/lib/python3.9/site-packages/sklearn/utils/class_weight.py\", line 63, in compute_class_weight\n",
      "    raise ValueError(\"class_weight must be dict, 'balanced', or None,\"\n",
      "ValueError: class_weight must be dict, 'balanced', or None, got: 'balnced'\n",
      "\n",
      "  warnings.warn(\"Estimator fit failed. The score on this train-test\"\n",
      "/opt/conda/lib/python3.9/site-packages/sklearn/model_selection/_validation.py:610: FitFailedWarning: Estimator fit failed. The score on this train-test partition for these parameters will be set to nan. Details: \n",
      "Traceback (most recent call last):\n",
      "  File \"/opt/conda/lib/python3.9/site-packages/sklearn/model_selection/_validation.py\", line 593, in _fit_and_score\n",
      "    estimator.fit(X_train, y_train, **fit_params)\n",
      "  File \"/opt/conda/lib/python3.9/site-packages/sklearn/linear_model/_logistic.py\", line 1358, in fit\n",
      "    self.coef_, self.intercept_, n_iter_ = _fit_liblinear(\n",
      "  File \"/opt/conda/lib/python3.9/site-packages/sklearn/svm/_base.py\", line 939, in _fit_liblinear\n",
      "    class_weight_ = compute_class_weight(class_weight, classes=classes_,\n",
      "  File \"/opt/conda/lib/python3.9/site-packages/sklearn/utils/validation.py\", line 63, in inner_f\n",
      "    return f(*args, **kwargs)\n",
      "  File \"/opt/conda/lib/python3.9/site-packages/sklearn/utils/class_weight.py\", line 63, in compute_class_weight\n",
      "    raise ValueError(\"class_weight must be dict, 'balanced', or None,\"\n",
      "ValueError: class_weight must be dict, 'balanced', or None, got: 'balnced'\n",
      "\n",
      "  warnings.warn(\"Estimator fit failed. The score on this train-test\"\n",
      "/opt/conda/lib/python3.9/site-packages/sklearn/model_selection/_validation.py:610: FitFailedWarning: Estimator fit failed. The score on this train-test partition for these parameters will be set to nan. Details: \n",
      "Traceback (most recent call last):\n",
      "  File \"/opt/conda/lib/python3.9/site-packages/sklearn/model_selection/_validation.py\", line 593, in _fit_and_score\n",
      "    estimator.fit(X_train, y_train, **fit_params)\n",
      "  File \"/opt/conda/lib/python3.9/site-packages/sklearn/linear_model/_logistic.py\", line 1358, in fit\n",
      "    self.coef_, self.intercept_, n_iter_ = _fit_liblinear(\n",
      "  File \"/opt/conda/lib/python3.9/site-packages/sklearn/svm/_base.py\", line 939, in _fit_liblinear\n",
      "    class_weight_ = compute_class_weight(class_weight, classes=classes_,\n",
      "  File \"/opt/conda/lib/python3.9/site-packages/sklearn/utils/validation.py\", line 63, in inner_f\n",
      "    return f(*args, **kwargs)\n",
      "  File \"/opt/conda/lib/python3.9/site-packages/sklearn/utils/class_weight.py\", line 63, in compute_class_weight\n",
      "    raise ValueError(\"class_weight must be dict, 'balanced', or None,\"\n",
      "ValueError: class_weight must be dict, 'balanced', or None, got: 'balnced'\n",
      "\n",
      "  warnings.warn(\"Estimator fit failed. The score on this train-test\"\n",
      "/opt/conda/lib/python3.9/site-packages/sklearn/model_selection/_validation.py:610: FitFailedWarning: Estimator fit failed. The score on this train-test partition for these parameters will be set to nan. Details: \n",
      "Traceback (most recent call last):\n",
      "  File \"/opt/conda/lib/python3.9/site-packages/sklearn/model_selection/_validation.py\", line 593, in _fit_and_score\n",
      "    estimator.fit(X_train, y_train, **fit_params)\n",
      "  File \"/opt/conda/lib/python3.9/site-packages/sklearn/linear_model/_logistic.py\", line 1358, in fit\n",
      "    self.coef_, self.intercept_, n_iter_ = _fit_liblinear(\n",
      "  File \"/opt/conda/lib/python3.9/site-packages/sklearn/svm/_base.py\", line 939, in _fit_liblinear\n",
      "    class_weight_ = compute_class_weight(class_weight, classes=classes_,\n",
      "  File \"/opt/conda/lib/python3.9/site-packages/sklearn/utils/validation.py\", line 63, in inner_f\n",
      "    return f(*args, **kwargs)\n",
      "  File \"/opt/conda/lib/python3.9/site-packages/sklearn/utils/class_weight.py\", line 63, in compute_class_weight\n",
      "    raise ValueError(\"class_weight must be dict, 'balanced', or None,\"\n",
      "ValueError: class_weight must be dict, 'balanced', or None, got: 'balnced'\n",
      "\n",
      "  warnings.warn(\"Estimator fit failed. The score on this train-test\"\n",
      "/opt/conda/lib/python3.9/site-packages/sklearn/model_selection/_validation.py:610: FitFailedWarning: Estimator fit failed. The score on this train-test partition for these parameters will be set to nan. Details: \n",
      "Traceback (most recent call last):\n",
      "  File \"/opt/conda/lib/python3.9/site-packages/sklearn/model_selection/_validation.py\", line 593, in _fit_and_score\n",
      "    estimator.fit(X_train, y_train, **fit_params)\n",
      "  File \"/opt/conda/lib/python3.9/site-packages/sklearn/linear_model/_logistic.py\", line 1358, in fit\n",
      "    self.coef_, self.intercept_, n_iter_ = _fit_liblinear(\n",
      "  File \"/opt/conda/lib/python3.9/site-packages/sklearn/svm/_base.py\", line 939, in _fit_liblinear\n",
      "    class_weight_ = compute_class_weight(class_weight, classes=classes_,\n",
      "  File \"/opt/conda/lib/python3.9/site-packages/sklearn/utils/validation.py\", line 63, in inner_f\n",
      "    return f(*args, **kwargs)\n",
      "  File \"/opt/conda/lib/python3.9/site-packages/sklearn/utils/class_weight.py\", line 63, in compute_class_weight\n",
      "    raise ValueError(\"class_weight must be dict, 'balanced', or None,\"\n",
      "ValueError: class_weight must be dict, 'balanced', or None, got: 'balnced'\n",
      "\n",
      "  warnings.warn(\"Estimator fit failed. The score on this train-test\"\n",
      "/opt/conda/lib/python3.9/site-packages/sklearn/model_selection/_search.py:918: UserWarning: One or more of the test scores are non-finite: [       nan 0.60392093        nan 0.39388352        nan 0.72602857\n",
      "        nan 0.62976957        nan 0.75044129        nan 0.6865831\n",
      "        nan 0.75958924        nan 0.70869203        nan 0.76287763\n",
      "        nan 0.7203758 ]\n",
      "  warnings.warn(\n"
     ]
    },
    {
     "name": "stdout",
     "output_type": "stream",
     "text": [
      "Best hyperparameters: {'C': 2.0, 'class_weight': 'balnced', 'penalty': 'l1', 'solver': 'saga'}\n",
      "Best score: 0.7628776257584693\n"
     ]
    },
    {
     "name": "stderr",
     "output_type": "stream",
     "text": [
      "/opt/conda/lib/python3.9/site-packages/sklearn/linear_model/_sag.py:328: ConvergenceWarning: The max_iter was reached which means the coef_ did not converge\n",
      "  warnings.warn(\"The max_iter was reached which means \"\n"
     ]
    }
   ],
   "source": [
    "param_grid = {\n",
    "    \"C\": [0.1, 0.5, 1.0, 1.5, 2.0],\n",
    "    \"penalty\": [\"l1\", \"l2\"],\n",
    "    \"solver\": [\"liblinear\", \"saga\"],\n",
    "    \"class_weight\": [\"balnced\"]\n",
    "}\n",
    "\n",
    "model = LogisticRegression()\n",
    "grid_search = GridSearchCV(model, param_grid, cv=5, scoring='f1')\n",
    "grid_search.fit(X_train, y_train)\n",
    "\n",
    "print(\"Best hyperparameters:\", grid_search.best_params_)\n",
    "print(\"Best score:\", grid_search.best_score_)"
   ]
  },
  {
   "cell_type": "code",
   "execution_count": 20,
   "metadata": {},
   "outputs": [
    {
     "name": "stderr",
     "output_type": "stream",
     "text": [
      "/opt/conda/lib/python3.9/site-packages/sklearn/linear_model/_sag.py:328: ConvergenceWarning: The max_iter was reached which means the coef_ did not converge\n",
      "  warnings.warn(\"The max_iter was reached which means \"\n"
     ]
    }
   ],
   "source": [
    "X_test_d,X_valid_d, y_test_d, y_valid_d = train_test_split(X_test, y_test, test_size=0.5, random_state=1)\n",
    "best_score = 0\n",
    "best_param = []\n",
    "for C in [0.1, 0.5, 1.0, 1.5, 2.0]:\n",
    "    for penalty in [\"l1\", \"l2\"]:\n",
    "        for solver in [\"liblinear\", \"saga\"]:\n",
    "            model = LogisticRegression(C=C, penalty=penalty, solver=solver)\n",
    "            model.fit(X_train_downsample, y_train_downsample)\n",
    "            f = f1_score(y_valid_d, model.predict(X_valid_d))\n",
    "            if f > best_score:\n",
    "                best_param = [C, penalty, solver]\n",
    "                best_score = f"
   ]
  },
  {
   "cell_type": "code",
   "execution_count": 21,
   "metadata": {},
   "outputs": [
    {
     "data": {
      "text/plain": [
       "0.7058192544918208"
      ]
     },
     "execution_count": 21,
     "metadata": {},
     "output_type": "execute_result"
    }
   ],
   "source": [
    "best_score"
   ]
  },
  {
   "cell_type": "markdown",
   "metadata": {},
   "source": [
    "### Catboost"
   ]
  },
  {
   "cell_type": "code",
   "execution_count": null,
   "metadata": {
    "scrolled": true
   },
   "outputs": [],
   "source": [
    "model = CatBoostClassifier(depth=5, iterations=100)\n",
    "\n",
    "print(\"Best score:\", cross_val_score(model, X_train, y_train, scoring='f1'))"
   ]
  },
  {
   "cell_type": "markdown",
   "metadata": {},
   "source": [
    "## Выводы"
   ]
  },
  {
   "cell_type": "code",
   "execution_count": 18,
   "metadata": {},
   "outputs": [
    {
     "name": "stdout",
     "output_type": "stream",
     "text": [
      "f1:  0.7819176209195009\n"
     ]
    },
    {
     "name": "stderr",
     "output_type": "stream",
     "text": [
      "/opt/conda/lib/python3.9/site-packages/sklearn/linear_model/_sag.py:328: ConvergenceWarning: The max_iter was reached which means the coef_ did not converge\n",
      "  warnings.warn(\"The max_iter was reached which means \"\n"
     ]
    }
   ],
   "source": [
    "model = LogisticRegression(C=2.0, class_weight='balnced', penalty='l1', solver='saga')\n",
    "model.fit(X_train, y_train)\n",
    "print('f1: ', f1_score(y_test, model.predict(X_test)))"
   ]
  },
  {
   "cell_type": "markdown",
   "metadata": {},
   "source": [
    "Во время выполнения проекта была попытка использовать предобученную модель BERT, но во время выполнения произошли непредвиденные объстоятельства.<br>\n",
    "Проект был выполнен с помощью векторов tf-idf. Лучше всего себя показала модель логистической регрессии с f1 метрикой на тесте равной 0.78. Гиперпараматеры модели:'C': 2.0, 'class_weight': 'balnced', 'penalty': 'l1', 'solver': 'saga'"
   ]
  },
  {
   "cell_type": "markdown",
   "metadata": {},
   "source": [
    "## Чек-лист проверки"
   ]
  },
  {
   "cell_type": "markdown",
   "metadata": {},
   "source": [
    "- [x]  Jupyter Notebook открыт\n",
    "- [x]  Весь код выполняется без ошибок\n",
    "- [x]  Ячейки с кодом расположены в порядке исполнения\n",
    "- [x]  Данные загружены и подготовлены\n",
    "- [x]  Модели обучены\n",
    "- [x]  Значение метрики *F1* не меньше 0.75\n",
    "- [x]  Выводы написаны"
   ]
  }
 ],
 "metadata": {
  "ExecuteTimeLog": [
   {
    "duration": 1589,
    "start_time": "2023-03-09T13:23:49.625Z"
   },
   {
    "duration": 10795,
    "start_time": "2023-03-09T13:24:08.197Z"
   },
   {
    "duration": 3,
    "start_time": "2023-03-09T13:25:08.695Z"
   },
   {
    "duration": 2081,
    "start_time": "2023-03-09T13:26:18.009Z"
   },
   {
    "duration": 3,
    "start_time": "2023-03-09T13:27:50.596Z"
   },
   {
    "duration": 4561,
    "start_time": "2023-03-09T13:30:02.153Z"
   },
   {
    "duration": 14,
    "start_time": "2023-03-09T13:30:10.302Z"
   },
   {
    "duration": 653,
    "start_time": "2023-03-09T13:30:11.367Z"
   },
   {
    "duration": 3,
    "start_time": "2023-03-09T13:30:23.916Z"
   },
   {
    "duration": 102142,
    "start_time": "2023-03-09T13:30:30.809Z"
   },
   {
    "duration": 0,
    "start_time": "2023-03-09T13:32:12.953Z"
   },
   {
    "duration": 102230,
    "start_time": "2023-03-09T13:32:40.058Z"
   },
   {
    "duration": 39,
    "start_time": "2023-03-09T13:43:22.961Z"
   },
   {
    "duration": 12,
    "start_time": "2023-03-09T13:43:57.094Z"
   },
   {
    "duration": 20,
    "start_time": "2023-03-09T13:44:03.178Z"
   },
   {
    "duration": 28,
    "start_time": "2023-03-09T13:44:15.765Z"
   },
   {
    "duration": 35,
    "start_time": "2023-03-09T13:44:31.965Z"
   },
   {
    "duration": 18,
    "start_time": "2023-03-09T13:45:20.268Z"
   },
   {
    "duration": 394,
    "start_time": "2023-03-09T13:47:01.865Z"
   },
   {
    "duration": 4,
    "start_time": "2023-03-09T13:47:41.766Z"
   },
   {
    "duration": 102,
    "start_time": "2023-03-09T13:47:47.765Z"
   },
   {
    "duration": 11435,
    "start_time": "2023-03-09T13:48:23.919Z"
   },
   {
    "duration": 12053,
    "start_time": "2023-03-09T13:48:50.570Z"
   },
   {
    "duration": 10,
    "start_time": "2023-03-09T13:49:19.564Z"
   },
   {
    "duration": 1395,
    "start_time": "2023-03-09T16:14:23.622Z"
   },
   {
    "duration": 3458,
    "start_time": "2023-03-09T16:14:27.539Z"
   },
   {
    "duration": 15,
    "start_time": "2023-03-09T16:14:30.999Z"
   },
   {
    "duration": 664,
    "start_time": "2023-03-09T16:14:31.015Z"
   },
   {
    "duration": 3,
    "start_time": "2023-03-09T16:14:38.164Z"
   },
   {
    "duration": 102174,
    "start_time": "2023-03-09T16:14:39.221Z"
   },
   {
    "duration": 35,
    "start_time": "2023-03-09T16:16:21.397Z"
   },
   {
    "duration": 11708,
    "start_time": "2023-03-09T16:16:21.433Z"
   },
   {
    "duration": 4,
    "start_time": "2023-03-09T16:17:39.469Z"
   },
   {
    "duration": 829,
    "start_time": "2023-03-09T16:17:39.850Z"
   },
   {
    "duration": 8,
    "start_time": "2023-03-09T16:17:40.681Z"
   },
   {
    "duration": 158,
    "start_time": "2023-03-09T16:17:40.691Z"
   },
   {
    "duration": 4,
    "start_time": "2023-03-09T16:17:45.895Z"
   },
   {
    "duration": 97804,
    "start_time": "2023-03-09T16:17:46.408Z"
   },
   {
    "duration": 32,
    "start_time": "2023-03-09T16:19:24.214Z"
   },
   {
    "duration": 140,
    "start_time": "2023-03-09T16:19:24.248Z"
   },
   {
    "duration": 11808,
    "start_time": "2023-03-09T16:20:39.797Z"
   },
   {
    "duration": 4,
    "start_time": "2023-03-09T16:32:31.849Z"
   },
   {
    "duration": 48887,
    "start_time": "2023-03-09T16:32:36.142Z"
   },
   {
    "duration": 41,
    "start_time": "2023-03-09T16:33:25.030Z"
   },
   {
    "duration": 13,
    "start_time": "2023-03-09T16:34:18.091Z"
   },
   {
    "duration": 21,
    "start_time": "2023-03-09T20:22:18.747Z"
   },
   {
    "duration": 4,
    "start_time": "2023-03-09T20:23:15.637Z"
   },
   {
    "duration": 12,
    "start_time": "2023-03-09T20:25:45.780Z"
   },
   {
    "duration": 36,
    "start_time": "2023-03-09T20:25:58.001Z"
   },
   {
    "duration": 95,
    "start_time": "2023-03-09T20:26:11.605Z"
   },
   {
    "duration": 30,
    "start_time": "2023-03-09T20:26:32.242Z"
   },
   {
    "duration": 27,
    "start_time": "2023-03-09T20:26:49.928Z"
   },
   {
    "duration": 964,
    "start_time": "2023-03-09T20:27:10.787Z"
   },
   {
    "duration": 957,
    "start_time": "2023-03-09T20:28:04.096Z"
   },
   {
    "duration": 6,
    "start_time": "2023-03-09T20:28:21.986Z"
   },
   {
    "duration": 20,
    "start_time": "2023-03-09T20:28:59.901Z"
   },
   {
    "duration": 82,
    "start_time": "2023-03-09T20:29:08.390Z"
   },
   {
    "duration": 23,
    "start_time": "2023-03-09T20:29:11.205Z"
   },
   {
    "duration": 11,
    "start_time": "2023-03-09T20:29:43.529Z"
   },
   {
    "duration": 11,
    "start_time": "2023-03-09T20:29:54.998Z"
   },
   {
    "duration": 11,
    "start_time": "2023-03-09T20:30:14.720Z"
   },
   {
    "duration": 27,
    "start_time": "2023-03-09T20:30:22.221Z"
   },
   {
    "duration": 10,
    "start_time": "2023-03-09T20:30:52.510Z"
   },
   {
    "duration": 4337,
    "start_time": "2023-03-09T20:31:14.950Z"
   },
   {
    "duration": 4657,
    "start_time": "2023-03-09T20:31:35.149Z"
   },
   {
    "duration": 4252,
    "start_time": "2023-03-09T20:31:53.252Z"
   },
   {
    "duration": 42,
    "start_time": "2023-03-09T20:36:09.228Z"
   },
   {
    "duration": 19,
    "start_time": "2023-03-09T20:36:13.745Z"
   },
   {
    "duration": 1497,
    "start_time": "2023-03-09T20:38:24.815Z"
   },
   {
    "duration": 11290,
    "start_time": "2023-03-09T20:38:44.909Z"
   },
   {
    "duration": 28,
    "start_time": "2023-03-09T20:41:36.228Z"
   },
   {
    "duration": 14,
    "start_time": "2023-03-09T20:43:12.257Z"
   },
   {
    "duration": 15,
    "start_time": "2023-03-09T20:43:36.700Z"
   },
   {
    "duration": 17,
    "start_time": "2023-03-09T20:43:57.229Z"
   },
   {
    "duration": 5,
    "start_time": "2023-03-09T20:44:21.150Z"
   },
   {
    "duration": 1100,
    "start_time": "2023-03-09T20:44:27.924Z"
   },
   {
    "duration": 1365,
    "start_time": "2023-03-09T20:44:37.628Z"
   },
   {
    "duration": 6,
    "start_time": "2023-03-09T22:26:09.384Z"
   },
   {
    "duration": 12339,
    "start_time": "2023-03-09T22:29:32.239Z"
   },
   {
    "duration": 25,
    "start_time": "2023-03-09T22:29:44.580Z"
   },
   {
    "duration": 1277,
    "start_time": "2023-03-09T22:29:44.607Z"
   },
   {
    "duration": 11,
    "start_time": "2023-03-09T22:29:45.886Z"
   },
   {
    "duration": 4,
    "start_time": "2023-03-09T22:30:20.651Z"
   },
   {
    "duration": 33,
    "start_time": "2023-03-09T22:30:24.485Z"
   },
   {
    "duration": 270,
    "start_time": "2023-03-09T22:30:43.585Z"
   },
   {
    "duration": 12,
    "start_time": "2023-03-09T22:31:19.842Z"
   },
   {
    "duration": 12,
    "start_time": "2023-03-09T22:31:31.803Z"
   },
   {
    "duration": 252,
    "start_time": "2023-03-09T22:31:43.650Z"
   },
   {
    "duration": 54,
    "start_time": "2023-03-09T22:32:37.777Z"
   },
   {
    "duration": 1316,
    "start_time": "2023-03-09T22:32:47.052Z"
   },
   {
    "duration": 3452,
    "start_time": "2023-03-09T22:32:48.370Z"
   },
   {
    "duration": 13,
    "start_time": "2023-03-09T22:32:51.823Z"
   },
   {
    "duration": 329,
    "start_time": "2023-03-09T22:32:51.838Z"
   },
   {
    "duration": 4,
    "start_time": "2023-03-09T22:32:52.169Z"
   },
   {
    "duration": 5,
    "start_time": "2023-03-09T22:32:52.174Z"
   },
   {
    "duration": 93005,
    "start_time": "2023-03-09T22:32:52.180Z"
   },
   {
    "duration": 39,
    "start_time": "2023-03-09T22:34:25.187Z"
   },
   {
    "duration": 11332,
    "start_time": "2023-03-09T22:34:25.228Z"
   },
   {
    "duration": 0,
    "start_time": "2023-03-09T22:34:36.562Z"
   },
   {
    "duration": 0,
    "start_time": "2023-03-09T22:34:36.563Z"
   },
   {
    "duration": 0,
    "start_time": "2023-03-09T22:34:36.564Z"
   },
   {
    "duration": 5,
    "start_time": "2023-03-09T22:35:32.730Z"
   },
   {
    "duration": 903,
    "start_time": "2023-03-09T22:35:36.524Z"
   },
   {
    "duration": 8,
    "start_time": "2023-03-09T22:35:37.430Z"
   },
   {
    "duration": 184,
    "start_time": "2023-03-09T22:35:37.440Z"
   },
   {
    "duration": 5,
    "start_time": "2023-03-09T22:35:37.627Z"
   },
   {
    "duration": 5,
    "start_time": "2023-03-09T22:35:38.195Z"
   },
   {
    "duration": 99491,
    "start_time": "2023-03-09T22:35:38.448Z"
   },
   {
    "duration": 33,
    "start_time": "2023-03-09T22:37:17.941Z"
   },
   {
    "duration": 11719,
    "start_time": "2023-03-09T22:37:17.975Z"
   },
   {
    "duration": 37,
    "start_time": "2023-03-09T22:37:29.697Z"
   },
   {
    "duration": 1413,
    "start_time": "2023-03-09T22:37:29.736Z"
   },
   {
    "duration": 46,
    "start_time": "2023-03-09T22:38:03.855Z"
   },
   {
    "duration": 1453,
    "start_time": "2023-03-10T08:46:44.010Z"
   },
   {
    "duration": 2832,
    "start_time": "2023-03-10T08:46:46.777Z"
   },
   {
    "duration": 17,
    "start_time": "2023-03-10T08:46:49.612Z"
   },
   {
    "duration": 683,
    "start_time": "2023-03-10T08:46:49.631Z"
   },
   {
    "duration": 5,
    "start_time": "2023-03-10T08:46:50.316Z"
   },
   {
    "duration": 5,
    "start_time": "2023-03-10T08:47:03.244Z"
   },
   {
    "duration": 124912,
    "start_time": "2023-03-10T08:47:04.097Z"
   },
   {
    "duration": 36,
    "start_time": "2023-03-10T08:49:09.012Z"
   },
   {
    "duration": 14129,
    "start_time": "2023-03-10T08:49:09.050Z"
   },
   {
    "duration": 31,
    "start_time": "2023-03-10T08:49:23.189Z"
   },
   {
    "duration": 1484,
    "start_time": "2023-03-10T08:49:23.222Z"
   },
   {
    "duration": 200121,
    "start_time": "2023-03-10T08:50:03.922Z"
   },
   {
    "duration": 918342,
    "start_time": "2023-03-10T08:53:33.820Z"
   },
   {
    "duration": 4902,
    "start_time": "2023-03-10T09:08:52.170Z"
   },
   {
    "duration": 9,
    "start_time": "2023-03-10T09:08:57.074Z"
   },
   {
    "duration": 788555,
    "start_time": "2023-03-10T09:32:28.024Z"
   },
   {
    "duration": 304418,
    "start_time": "2023-03-10T09:45:36.582Z"
   },
   {
    "duration": 157783,
    "start_time": "2023-03-10T09:50:41.002Z"
   },
   {
    "duration": 46519,
    "start_time": "2023-03-10T09:53:18.788Z"
   },
   {
    "duration": 11128,
    "start_time": "2023-03-10T09:54:36.149Z"
   },
   {
    "duration": 24,
    "start_time": "2023-03-10T10:04:54.962Z"
   },
   {
    "duration": 2794905,
    "start_time": "2023-03-10T10:05:56.547Z"
   },
   {
    "duration": 0,
    "start_time": "2023-03-10T10:52:31.454Z"
   },
   {
    "duration": 0,
    "start_time": "2023-03-10T10:52:31.456Z"
   },
   {
    "duration": 4,
    "start_time": "2023-03-10T10:52:34.289Z"
   },
   {
    "duration": 29463,
    "start_time": "2023-03-10T10:53:58.948Z"
   },
   {
    "duration": 11,
    "start_time": "2023-03-10T10:54:30.704Z"
   },
   {
    "duration": 33209,
    "start_time": "2023-03-10T10:54:41.339Z"
   },
   {
    "duration": 44,
    "start_time": "2023-03-10T10:55:56.179Z"
   },
   {
    "duration": 665174,
    "start_time": "2023-03-10T10:56:08.846Z"
   },
   {
    "duration": 0,
    "start_time": "2023-03-10T11:27:54.687Z"
   },
   {
    "duration": 6,
    "start_time": "2023-03-10T11:27:59.430Z"
   },
   {
    "duration": 875,
    "start_time": "2023-03-10T11:28:04.148Z"
   },
   {
    "duration": 2864,
    "start_time": "2023-03-10T11:28:13.427Z"
   },
   {
    "duration": 80706,
    "start_time": "2023-03-10T11:29:16.492Z"
   },
   {
    "duration": 1376,
    "start_time": "2023-03-12T20:55:44.290Z"
   },
   {
    "duration": 228,
    "start_time": "2023-03-12T20:55:47.232Z"
   },
   {
    "duration": 1314,
    "start_time": "2023-03-12T20:55:54.459Z"
   },
   {
    "duration": 10,
    "start_time": "2023-03-12T20:55:55.775Z"
   },
   {
    "duration": 666,
    "start_time": "2023-03-12T20:55:55.787Z"
   },
   {
    "duration": 5,
    "start_time": "2023-03-12T20:55:56.456Z"
   },
   {
    "duration": 3,
    "start_time": "2023-03-12T20:57:39.176Z"
   },
   {
    "duration": 365,
    "start_time": "2023-03-12T20:57:41.550Z"
   },
   {
    "duration": 4,
    "start_time": "2023-03-12T20:57:59.905Z"
   },
   {
    "duration": 140159,
    "start_time": "2023-03-12T20:58:01.255Z"
   },
   {
    "duration": 41,
    "start_time": "2023-03-12T21:00:21.417Z"
   },
   {
    "duration": 8039,
    "start_time": "2023-03-12T21:00:21.461Z"
   },
   {
    "duration": 28,
    "start_time": "2023-03-12T21:00:29.502Z"
   },
   {
    "duration": 1252,
    "start_time": "2023-03-12T21:00:29.532Z"
   },
   {
    "duration": 862985,
    "start_time": "2023-03-12T21:00:30.789Z"
   },
   {
    "duration": 730030,
    "start_time": "2023-03-12T21:14:53.776Z"
   },
   {
    "duration": 5,
    "start_time": "2023-03-12T21:27:03.807Z"
   },
   {
    "duration": 0,
    "start_time": "2023-03-12T21:27:03.813Z"
   },
   {
    "duration": 78602,
    "start_time": "2023-03-12T21:44:13.076Z"
   },
   {
    "duration": 161,
    "start_time": "2023-03-12T21:50:47.702Z"
   },
   {
    "duration": 32367,
    "start_time": "2023-03-12T21:50:56.741Z"
   },
   {
    "duration": 5,
    "start_time": "2023-03-12T21:51:48.151Z"
   }
  ],
  "kernelspec": {
   "display_name": "Python 3 (ipykernel)",
   "language": "python",
   "name": "python3"
  },
  "language_info": {
   "codemirror_mode": {
    "name": "ipython",
    "version": 3
   },
   "file_extension": ".py",
   "mimetype": "text/x-python",
   "name": "python",
   "nbconvert_exporter": "python",
   "pygments_lexer": "ipython3",
   "version": "3.9.12"
  },
  "toc": {
   "base_numbering": 1,
   "nav_menu": {},
   "number_sections": true,
   "sideBar": true,
   "skip_h1_title": true,
   "title_cell": "Содержание",
   "title_sidebar": "Contents",
   "toc_cell": true,
   "toc_position": {
    "height": "calc(100% - 180px)",
    "left": "10px",
    "top": "150px",
    "width": "302.391px"
   },
   "toc_section_display": true,
   "toc_window_display": false
  }
 },
 "nbformat": 4,
 "nbformat_minor": 2
}
